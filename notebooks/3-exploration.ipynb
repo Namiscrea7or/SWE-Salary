{
 "cells": [
  {
   "cell_type": "markdown",
   "metadata": {},
   "source": [
    "# Exploratory Data Analysis"
   ]
  },
  {
   "cell_type": "markdown",
   "metadata": {},
   "source": [
    "## Import   "
   ]
  },
  {
   "cell_type": "code",
   "execution_count": 1,
   "metadata": {},
   "outputs": [],
   "source": [
    "## Import\n",
    "import os\n",
    "import sys\n",
    "\n",
    "module_path = os.path.abspath(os.path.join('..'))\n",
    "if module_path not in sys.path:\n",
    "    sys.path.append(module_path)\n",
    "    \n",
    "import warnings\n",
    "warnings.filterwarnings('ignore')\n",
    "\n",
    "import numpy as np\n",
    "import pandas as pd\n",
    "import matplotlib.pyplot as plt\n",
    "%matplotlib inline\n",
    "\n",
    "import seaborn as sns"
   ]
  },
  {
   "cell_type": "markdown",
   "metadata": {},
   "source": [
    "## Exploring data"
   ]
  },
  {
   "cell_type": "markdown",
   "metadata": {},
   "source": [
    "### Read data from file"
   ]
  },
  {
   "cell_type": "code",
   "execution_count": 3,
   "metadata": {},
   "outputs": [
    {
     "data": {
      "text/html": [
       "<div>\n",
       "<style scoped>\n",
       "    .dataframe tbody tr th:only-of-type {\n",
       "        vertical-align: middle;\n",
       "    }\n",
       "\n",
       "    .dataframe tbody tr th {\n",
       "        vertical-align: top;\n",
       "    }\n",
       "\n",
       "    .dataframe thead th {\n",
       "        text-align: right;\n",
       "    }\n",
       "</style>\n",
       "<table border=\"1\" class=\"dataframe\">\n",
       "  <thead>\n",
       "    <tr style=\"text-align: right;\">\n",
       "      <th></th>\n",
       "      <th>company</th>\n",
       "      <th>company_size</th>\n",
       "      <th>job_title</th>\n",
       "      <th>level</th>\n",
       "      <th>domain</th>\n",
       "      <th>yoe_total</th>\n",
       "      <th>yoe_at_company</th>\n",
       "      <th>base</th>\n",
       "      <th>stock</th>\n",
       "      <th>bonus</th>\n",
       "      <th>total_compensation</th>\n",
       "      <th>location</th>\n",
       "    </tr>\n",
       "  </thead>\n",
       "  <tbody>\n",
       "    <tr>\n",
       "      <th>0</th>\n",
       "      <td>Logitech</td>\n",
       "      <td>7250</td>\n",
       "      <td>Software Engineer</td>\n",
       "      <td>I4</td>\n",
       "      <td>Testing (SDET)</td>\n",
       "      <td>10</td>\n",
       "      <td>5</td>\n",
       "      <td>190000</td>\n",
       "      <td>10000</td>\n",
       "      <td>0</td>\n",
       "      <td>200000</td>\n",
       "      <td>San Francisco Bay Area</td>\n",
       "    </tr>\n",
       "    <tr>\n",
       "      <th>1</th>\n",
       "      <td>Logitech</td>\n",
       "      <td>7250</td>\n",
       "      <td>Software Engineer</td>\n",
       "      <td>I2</td>\n",
       "      <td>ML / AI</td>\n",
       "      <td>4</td>\n",
       "      <td>3</td>\n",
       "      <td>126000</td>\n",
       "      <td>0</td>\n",
       "      <td>7000</td>\n",
       "      <td>133000</td>\n",
       "      <td>Vancouver, WA</td>\n",
       "    </tr>\n",
       "    <tr>\n",
       "      <th>2</th>\n",
       "      <td>Logitech</td>\n",
       "      <td>7250</td>\n",
       "      <td>Software Engineer</td>\n",
       "      <td>I3</td>\n",
       "      <td>Testing (SDET)</td>\n",
       "      <td>11</td>\n",
       "      <td>11</td>\n",
       "      <td>120000</td>\n",
       "      <td>5000</td>\n",
       "      <td>12000</td>\n",
       "      <td>137000</td>\n",
       "      <td>San Francisco, CA</td>\n",
       "    </tr>\n",
       "    <tr>\n",
       "      <th>3</th>\n",
       "      <td>Logitech</td>\n",
       "      <td>7250</td>\n",
       "      <td>Software Engineer</td>\n",
       "      <td>I4</td>\n",
       "      <td>Production</td>\n",
       "      <td>8</td>\n",
       "      <td>8</td>\n",
       "      <td>100000</td>\n",
       "      <td>10000</td>\n",
       "      <td>0</td>\n",
       "      <td>110000</td>\n",
       "      <td>Hsin-chu, TP, Taiwan</td>\n",
       "    </tr>\n",
       "    <tr>\n",
       "      <th>4</th>\n",
       "      <td>Logitech</td>\n",
       "      <td>7250</td>\n",
       "      <td>Software Engineer</td>\n",
       "      <td>I4</td>\n",
       "      <td>Android</td>\n",
       "      <td>13</td>\n",
       "      <td>1</td>\n",
       "      <td>185000</td>\n",
       "      <td>15000</td>\n",
       "      <td>18500</td>\n",
       "      <td>218500</td>\n",
       "      <td>San Francisco, CA</td>\n",
       "    </tr>\n",
       "    <tr>\n",
       "      <th>...</th>\n",
       "      <td>...</td>\n",
       "      <td>...</td>\n",
       "      <td>...</td>\n",
       "      <td>...</td>\n",
       "      <td>...</td>\n",
       "      <td>...</td>\n",
       "      <td>...</td>\n",
       "      <td>...</td>\n",
       "      <td>...</td>\n",
       "      <td>...</td>\n",
       "      <td>...</td>\n",
       "      <td>...</td>\n",
       "    </tr>\n",
       "    <tr>\n",
       "      <th>1713</th>\n",
       "      <td>Snap</td>\n",
       "      <td>6250</td>\n",
       "      <td>Marketing</td>\n",
       "      <td>L3</td>\n",
       "      <td>Marketing</td>\n",
       "      <td>7</td>\n",
       "      <td>3</td>\n",
       "      <td>159000</td>\n",
       "      <td>60000</td>\n",
       "      <td>24000</td>\n",
       "      <td>243000</td>\n",
       "      <td>New York, NY</td>\n",
       "    </tr>\n",
       "    <tr>\n",
       "      <th>1714</th>\n",
       "      <td>Snap</td>\n",
       "      <td>6250</td>\n",
       "      <td>Marketing</td>\n",
       "      <td>L4</td>\n",
       "      <td>Design</td>\n",
       "      <td>6</td>\n",
       "      <td>0</td>\n",
       "      <td>150000</td>\n",
       "      <td>76000</td>\n",
       "      <td>10000</td>\n",
       "      <td>236000</td>\n",
       "      <td>Los Angeles, CA</td>\n",
       "    </tr>\n",
       "    <tr>\n",
       "      <th>1715</th>\n",
       "      <td>Snap</td>\n",
       "      <td>6250</td>\n",
       "      <td>Marketing</td>\n",
       "      <td>L3</td>\n",
       "      <td>Sales</td>\n",
       "      <td>8</td>\n",
       "      <td>3</td>\n",
       "      <td>134000</td>\n",
       "      <td>10000</td>\n",
       "      <td>20000</td>\n",
       "      <td>164000</td>\n",
       "      <td>Los Angeles, CA</td>\n",
       "    </tr>\n",
       "    <tr>\n",
       "      <th>1716</th>\n",
       "      <td>Snap</td>\n",
       "      <td>6250</td>\n",
       "      <td>Marketing</td>\n",
       "      <td>L3</td>\n",
       "      <td>Analyst role</td>\n",
       "      <td>4</td>\n",
       "      <td>4</td>\n",
       "      <td>120000</td>\n",
       "      <td>15000</td>\n",
       "      <td>20000</td>\n",
       "      <td>155000</td>\n",
       "      <td>Los Angeles, CA</td>\n",
       "    </tr>\n",
       "    <tr>\n",
       "      <th>1717</th>\n",
       "      <td>Snap</td>\n",
       "      <td>6250</td>\n",
       "      <td>Marketing</td>\n",
       "      <td>L7</td>\n",
       "      <td>Brand</td>\n",
       "      <td>20</td>\n",
       "      <td>4</td>\n",
       "      <td>265000</td>\n",
       "      <td>435000</td>\n",
       "      <td>2000</td>\n",
       "      <td>702000</td>\n",
       "      <td>Santa Monica, CA</td>\n",
       "    </tr>\n",
       "  </tbody>\n",
       "</table>\n",
       "<p>1718 rows × 12 columns</p>\n",
       "</div>"
      ],
      "text/plain": [
       "       company  company_size          job_title level          domain  \\\n",
       "0     Logitech          7250  Software Engineer    I4  Testing (SDET)   \n",
       "1     Logitech          7250  Software Engineer    I2         ML / AI   \n",
       "2     Logitech          7250  Software Engineer    I3  Testing (SDET)   \n",
       "3     Logitech          7250  Software Engineer    I4      Production   \n",
       "4     Logitech          7250  Software Engineer    I4         Android   \n",
       "...        ...           ...                ...   ...             ...   \n",
       "1713      Snap          6250          Marketing    L3       Marketing   \n",
       "1714      Snap          6250          Marketing    L4          Design   \n",
       "1715      Snap          6250          Marketing    L3           Sales   \n",
       "1716      Snap          6250          Marketing    L3    Analyst role   \n",
       "1717      Snap          6250          Marketing    L7           Brand   \n",
       "\n",
       "      yoe_total  yoe_at_company    base   stock  bonus  total_compensation  \\\n",
       "0            10               5  190000   10000      0              200000   \n",
       "1             4               3  126000       0   7000              133000   \n",
       "2            11              11  120000    5000  12000              137000   \n",
       "3             8               8  100000   10000      0              110000   \n",
       "4            13               1  185000   15000  18500              218500   \n",
       "...         ...             ...     ...     ...    ...                 ...   \n",
       "1713          7               3  159000   60000  24000              243000   \n",
       "1714          6               0  150000   76000  10000              236000   \n",
       "1715          8               3  134000   10000  20000              164000   \n",
       "1716          4               4  120000   15000  20000              155000   \n",
       "1717         20               4  265000  435000   2000              702000   \n",
       "\n",
       "                    location  \n",
       "0     San Francisco Bay Area  \n",
       "1              Vancouver, WA  \n",
       "2          San Francisco, CA  \n",
       "3       Hsin-chu, TP, Taiwan  \n",
       "4          San Francisco, CA  \n",
       "...                      ...  \n",
       "1713            New York, NY  \n",
       "1714         Los Angeles, CA  \n",
       "1715         Los Angeles, CA  \n",
       "1716         Los Angeles, CA  \n",
       "1717        Santa Monica, CA  \n",
       "\n",
       "[1718 rows x 12 columns]"
      ]
     },
     "execution_count": 3,
     "metadata": {},
     "output_type": "execute_result"
    }
   ],
   "source": [
    "cleaned_data = pd.read_csv('./data/cleaned_data.csv')\n",
    "cleaned_data"
   ]
  },
  {
   "cell_type": "code",
   "execution_count": 4,
   "metadata": {},
   "outputs": [
    {
     "data": {
      "text/plain": [
       "(1718, 12)"
      ]
     },
     "execution_count": 4,
     "metadata": {},
     "output_type": "execute_result"
    }
   ],
   "source": [
    "cleaned_data.shape"
   ]
  },
  {
   "cell_type": "code",
   "execution_count": 5,
   "metadata": {},
   "outputs": [
    {
     "name": "stdout",
     "output_type": "stream",
     "text": [
      "<class 'pandas.core.frame.DataFrame'>\n",
      "RangeIndex: 1718 entries, 0 to 1717\n",
      "Data columns (total 12 columns):\n",
      " #   Column              Non-Null Count  Dtype \n",
      "---  ------              --------------  ----- \n",
      " 0   company             1718 non-null   object\n",
      " 1   company_size        1718 non-null   int64 \n",
      " 2   job_title           1718 non-null   object\n",
      " 3   level               1718 non-null   object\n",
      " 4   domain              1718 non-null   object\n",
      " 5   yoe_total           1718 non-null   int64 \n",
      " 6   yoe_at_company      1718 non-null   int64 \n",
      " 7   base                1718 non-null   int64 \n",
      " 8   stock               1718 non-null   int64 \n",
      " 9   bonus               1718 non-null   int64 \n",
      " 10  total_compensation  1718 non-null   int64 \n",
      " 11  location            1718 non-null   object\n",
      "dtypes: int64(7), object(5)\n",
      "memory usage: 161.2+ KB\n"
     ]
    }
   ],
   "source": [
    "cleaned_data.info()"
   ]
  },
  {
   "cell_type": "markdown",
   "metadata": {},
   "source": [
    "> **Observation:** \n",
    "> - The data has total 12 columns and 1718 rows\n",
    "> - The data has no missing values\n",
    "> - The total data size is higher than 1000 which means it a well collecting data\n",
    "> - The type of the data is float64 and int64 which means it is a numerical data so we can easily apply some statistical methods to explore and analyze the data\n"
   ]
  },
  {
   "cell_type": "markdown",
   "metadata": {},
   "source": [
    "### Numerical analysis using descriptive statistics"
   ]
  },
  {
   "cell_type": "markdown",
   "metadata": {},
   "source": [
    "Descriptive statistics show the characteristics of numerical features. It shows us the information such as:\n",
    "- The mean (and you can go further with advanced techiques as Arithmetic mean, Geometric mean, Harmonic mean)\n",
    "- The median\n",
    "- The mode\n",
    "- Quantiles (Quartiles, Percentiles, Deciles, Crocodiles?)\n",
    "- Range and IQR (Interquartile Range) (you might find that its relation to box plots)\n",
    "- Variance and Standard deviation (std dev)\n",
    "- Coefficient of Variation\n",
    "- Skewness\n",
    "- Kurtosis\n",
    "- Standard Error (of the sample mean)\n",
    "- Moments\n",
    "- Covariance and Correlation\n",
    "\n",
    "Due the scope of this lab, you just need to use basic function of Pandas to calculate basic descriptive statistics information and give insights from it."
   ]
  },
  {
   "cell_type": "markdown",
   "metadata": {},
   "source": [
    "### Describe the correlation between features in the dataset"
   ]
  },
  {
   "cell_type": "markdown",
   "metadata": {},
   "source": [
    "Considering the available features within the training dataset, we want to identify and analyse the relationships between them, and then determine which features within the dataset significantly contribute to our solution goal. By using calculation and visualisation, Python allows us to create a correlation matrix, which is a table that represents the correlation coefficients between different variables."
   ]
  },
  {
   "cell_type": "markdown",
   "metadata": {},
   "source": [
    "Now let's make a correlation matrix, then visualize it, and describe what insights you observed?"
   ]
  },
  {
   "cell_type": "code",
   "execution_count": null,
   "metadata": {},
   "outputs": [],
   "source": [
    "data_copy = cleaned_data.copy()\n",
    "\n",
    "fig, ax = plt.subplots(figsize=(10,10))\n",
    "sns.heatmap(data_copy.corr(), cmap='RdBu', center=0,ax=ax)\n",
    "plt.show()"
   ]
  }
 ],
 "metadata": {
  "kernelspec": {
   "display_name": "Python 3",
   "language": "python",
   "name": "python3"
  },
  "language_info": {
   "codemirror_mode": {
    "name": "ipython",
    "version": 3
   },
   "file_extension": ".py",
   "mimetype": "text/x-python",
   "name": "python",
   "nbconvert_exporter": "python",
   "pygments_lexer": "ipython3",
   "version": "3.11.0"
  }
 },
 "nbformat": 4,
 "nbformat_minor": 2
}
