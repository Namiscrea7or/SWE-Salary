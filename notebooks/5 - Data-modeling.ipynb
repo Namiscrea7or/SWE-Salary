{
 "cells": [
  {
   "cell_type": "code",
   "execution_count": 68,
   "metadata": {},
   "outputs": [],
   "source": [
    "import pandas as pd\n",
    "import numpy as np\n",
    "import seaborn as sns\n",
    "import matplotlib.pyplot as plt\n",
    "import statsmodels.api as sm\n",
    "from sklearn.preprocessing import LabelEncoder\n",
    "from sklearn.model_selection import train_test_split\n",
    "from sklearn.linear_model import LinearRegression\n",
    "from sklearn.metrics import mean_squared_error\n",
    "from sklearn.metrics import r2_score"
   ]
  },
  {
   "cell_type": "markdown",
   "metadata": {},
   "source": [
    "## 1. Define problem"
   ]
  },
  {
   "cell_type": "markdown",
   "metadata": {},
   "source": [
    "- **Type of Problem:** Regression\n",
    "- **Objective:** Predict the total compensation of an employee based on various job-related features.\n",
    "- **Features:**\n",
    "    1. `company`: The company the employee works for (categorical).\n",
    "    2. `company_size`: The size of the company (numerical).\n",
    "    3. `job_title`: The job title of the employee (categorical).\n",
    "    4. `level`: The job level of the employee (categorical).\n",
    "    5. `domain`: The domain of the company or job (categorical).\n",
    "    6. `yoe_total`: Years of total work experience (numerical).\n",
    "    7. `yoe_at_company`: Years of work experience at the current company (numerical).\n",
    "    8. `base`: Base salary (numerical).\n",
    "    9. `stock`: Stock-related compensation (numerical).\n",
    "    10. `bonus`: Bonus amount (numerical).\n",
    "    11. `total_compensation`: **The target variable** - total compensation (numerical).\n",
    "\n",
    "- **Example Questions:**\n",
    "    - What is the expected total compensation for an employee with a certain job title, at a specific company, with a given level of experience?\n",
    "    - How much does the total compensation vary based on job level or company size?\n",
    "\n",
    "- **Potential Use Cases:**\n",
    "    - Helping HR departments and employees understand the factors influencing compensation.\n",
    "    - Guiding salary negotiations by providing estimates based on relevant features."
   ]
  },
  {
   "cell_type": "markdown",
   "metadata": {},
   "source": [
    "## Why we choose this as a regression problem?"
   ]
  },
  {
   "cell_type": "markdown",
   "metadata": {},
   "source": [
    "The problem is chosen as a <font color='#F3E5AB'>regression problem</font> because we aim to predict a continuous value, specifically the total compensation of an employee. Here are some reasons explaining why regression is an appropriate choice:\n",
    " 1. **Continuous Target Variable:** Total compensation is a continuous variable, not falling into fixed categories. When predicting an exact amount, regression is commonly used.\n",
    " 2. **Prediction of Specific Quantities:** In this context, we are interested in predicting a specific quantity, such as the exact income that an employee might have in a given scenario.\n",
    " 3. **Relationship between Features and Target:** Features such as job level, experience, domain, and base salary can significantly influence total compensation. This relationship can be well captured by regression models.\n",
    " 4. **Model Evaluation:** With regression models, we can use metrics like <font color='#F3E5AB'>Mean Squared Error (MSE)</font> or <font color='#F3E5AB'>R-squared</font> to evaluate prediction performance and measure the difference between predicted and actual values.\n",
    " 5. **Convenient for Model Interpretation:** Regression models provide a convenient way to interpret the impact of each feature on the target variable. This can be valuable in understanding why the model makes specific predictions."
   ]
  },
  {
   "cell_type": "markdown",
   "metadata": {},
   "source": [
    "## 2. Prepare Data"
   ]
  },
  {
   "cell_type": "code",
   "execution_count": 69,
   "metadata": {},
   "outputs": [
    {
     "data": {
      "text/html": [
       "<div>\n",
       "<style scoped>\n",
       "    .dataframe tbody tr th:only-of-type {\n",
       "        vertical-align: middle;\n",
       "    }\n",
       "\n",
       "    .dataframe tbody tr th {\n",
       "        vertical-align: top;\n",
       "    }\n",
       "\n",
       "    .dataframe thead th {\n",
       "        text-align: right;\n",
       "    }\n",
       "</style>\n",
       "<table border=\"1\" class=\"dataframe\">\n",
       "  <thead>\n",
       "    <tr style=\"text-align: right;\">\n",
       "      <th></th>\n",
       "      <th>company</th>\n",
       "      <th>company_size</th>\n",
       "      <th>job_title</th>\n",
       "      <th>level</th>\n",
       "      <th>domain</th>\n",
       "      <th>yoe_total</th>\n",
       "      <th>yoe_at_company</th>\n",
       "      <th>base</th>\n",
       "      <th>stock</th>\n",
       "      <th>bonus</th>\n",
       "      <th>total_compensation</th>\n",
       "      <th>location</th>\n",
       "    </tr>\n",
       "  </thead>\n",
       "  <tbody>\n",
       "    <tr>\n",
       "      <th>0</th>\n",
       "      <td>Logitech</td>\n",
       "      <td>7250</td>\n",
       "      <td>Software Engineer</td>\n",
       "      <td>I4</td>\n",
       "      <td>Testing (SDET)</td>\n",
       "      <td>10</td>\n",
       "      <td>5</td>\n",
       "      <td>190000</td>\n",
       "      <td>10000</td>\n",
       "      <td>0</td>\n",
       "      <td>200000</td>\n",
       "      <td>San Francisco Bay Area</td>\n",
       "    </tr>\n",
       "    <tr>\n",
       "      <th>1</th>\n",
       "      <td>Logitech</td>\n",
       "      <td>7250</td>\n",
       "      <td>Software Engineer</td>\n",
       "      <td>I2</td>\n",
       "      <td>ML / AI</td>\n",
       "      <td>4</td>\n",
       "      <td>3</td>\n",
       "      <td>126000</td>\n",
       "      <td>0</td>\n",
       "      <td>7000</td>\n",
       "      <td>133000</td>\n",
       "      <td>Vancouver, WA</td>\n",
       "    </tr>\n",
       "    <tr>\n",
       "      <th>2</th>\n",
       "      <td>Logitech</td>\n",
       "      <td>7250</td>\n",
       "      <td>Software Engineer</td>\n",
       "      <td>I3</td>\n",
       "      <td>Testing (SDET)</td>\n",
       "      <td>11</td>\n",
       "      <td>11</td>\n",
       "      <td>120000</td>\n",
       "      <td>5000</td>\n",
       "      <td>12000</td>\n",
       "      <td>137000</td>\n",
       "      <td>San Francisco, CA</td>\n",
       "    </tr>\n",
       "    <tr>\n",
       "      <th>3</th>\n",
       "      <td>Logitech</td>\n",
       "      <td>7250</td>\n",
       "      <td>Software Engineer</td>\n",
       "      <td>I4</td>\n",
       "      <td>Production</td>\n",
       "      <td>8</td>\n",
       "      <td>8</td>\n",
       "      <td>100000</td>\n",
       "      <td>10000</td>\n",
       "      <td>0</td>\n",
       "      <td>110000</td>\n",
       "      <td>Hsin-chu, TP, Taiwan</td>\n",
       "    </tr>\n",
       "    <tr>\n",
       "      <th>4</th>\n",
       "      <td>Logitech</td>\n",
       "      <td>7250</td>\n",
       "      <td>Software Engineer</td>\n",
       "      <td>I4</td>\n",
       "      <td>Android</td>\n",
       "      <td>13</td>\n",
       "      <td>1</td>\n",
       "      <td>185000</td>\n",
       "      <td>15000</td>\n",
       "      <td>18500</td>\n",
       "      <td>218500</td>\n",
       "      <td>San Francisco, CA</td>\n",
       "    </tr>\n",
       "  </tbody>\n",
       "</table>\n",
       "</div>"
      ],
      "text/plain": [
       "    company  company_size          job_title level          domain  yoe_total  \\\n",
       "0  Logitech          7250  Software Engineer    I4  Testing (SDET)         10   \n",
       "1  Logitech          7250  Software Engineer    I2         ML / AI          4   \n",
       "2  Logitech          7250  Software Engineer    I3  Testing (SDET)         11   \n",
       "3  Logitech          7250  Software Engineer    I4      Production          8   \n",
       "4  Logitech          7250  Software Engineer    I4         Android         13   \n",
       "\n",
       "   yoe_at_company    base  stock  bonus  total_compensation  \\\n",
       "0               5  190000  10000      0              200000   \n",
       "1               3  126000      0   7000              133000   \n",
       "2              11  120000   5000  12000              137000   \n",
       "3               8  100000  10000      0              110000   \n",
       "4               1  185000  15000  18500              218500   \n",
       "\n",
       "                 location  \n",
       "0  San Francisco Bay Area  \n",
       "1           Vancouver, WA  \n",
       "2       San Francisco, CA  \n",
       "3    Hsin-chu, TP, Taiwan  \n",
       "4       San Francisco, CA  "
      ]
     },
     "execution_count": 69,
     "metadata": {},
     "output_type": "execute_result"
    }
   ],
   "source": [
    "df = pd.read_csv('./data/cleaned_data.csv')\n",
    "df.head()"
   ]
  },
  {
   "cell_type": "code",
   "execution_count": 70,
   "metadata": {},
   "outputs": [
    {
     "name": "stdout",
     "output_type": "stream",
     "text": [
      "<class 'pandas.core.frame.DataFrame'>\n",
      "RangeIndex: 1384 entries, 0 to 1383\n",
      "Data columns (total 12 columns):\n",
      " #   Column              Non-Null Count  Dtype \n",
      "---  ------              --------------  ----- \n",
      " 0   company             1384 non-null   object\n",
      " 1   company_size        1384 non-null   int64 \n",
      " 2   job_title           1384 non-null   object\n",
      " 3   level               1384 non-null   object\n",
      " 4   domain              1384 non-null   object\n",
      " 5   yoe_total           1384 non-null   int64 \n",
      " 6   yoe_at_company      1384 non-null   int64 \n",
      " 7   base                1384 non-null   int64 \n",
      " 8   stock               1384 non-null   int64 \n",
      " 9   bonus               1384 non-null   int64 \n",
      " 10  total_compensation  1384 non-null   int64 \n",
      " 11  location            1384 non-null   object\n",
      "dtypes: int64(7), object(5)\n",
      "memory usage: 129.9+ KB\n"
     ]
    }
   ],
   "source": [
    "df.info()"
   ]
  },
  {
   "cell_type": "markdown",
   "metadata": {},
   "source": [
    "**Data cleaning**"
   ]
  },
  {
   "cell_type": "markdown",
   "metadata": {},
   "source": [
    " 1. Handling missing value"
   ]
  },
  {
   "cell_type": "code",
   "execution_count": 71,
   "metadata": {},
   "outputs": [
    {
     "name": "stdout",
     "output_type": "stream",
     "text": [
      "Columns with missing values:\n",
      "Index([], dtype='object')\n"
     ]
    }
   ],
   "source": [
    "missing_values = df.isnull().sum()\n",
    "columns_with_missing_values = missing_values[missing_values > 0].index\n",
    "print(\"Columns with missing values:\")\n",
    "print(columns_with_missing_values)"
   ]
  },
  {
   "cell_type": "markdown",
   "metadata": {},
   "source": [
    "If there are rows or columns with missing values, run the code below"
   ]
  },
  {
   "cell_type": "code",
   "execution_count": 72,
   "metadata": {},
   "outputs": [],
   "source": [
    "if not columns_with_missing_values.empty:\n",
    "    #Imputation with mean for numeric columns\n",
    "    numeric_columns = df.select_dtypes(include='number').columns\n",
    "    df[numeric_columns] = df[numeric_columns].fillna(df[numeric_columns].mean())\n",
    "    \n",
    "    #Imputation with mode for categorical columns\n",
    "    categorical_columns = df.select_dtypes(exclude='number').columns\n",
    "    df[categorical_columns] = df[categorical_columns].fillna(df[categorical_columns].mode().iloc[0])"
   ]
  },
  {
   "cell_type": "markdown",
   "metadata": {},
   "source": [
    "2. Outlier Detection:"
   ]
  },
  {
   "cell_type": "code",
   "execution_count": 73,
   "metadata": {},
   "outputs": [],
   "source": [
    "#Identify outliers in numerical features\n",
    "numerical_features = ['company_size', 'yoe_total', 'yoe_at_company', 'base', 'stock', 'bonus', 'total_compensation']"
   ]
  },
  {
   "cell_type": "code",
   "execution_count": 74,
   "metadata": {},
   "outputs": [],
   "source": [
    "# Calculate z-scores to measure the distance from the mean in terms of standard deviations\n",
    "z_scores = np.abs((df[numerical_features] - df[numerical_features].mean()) / df[numerical_features].std())"
   ]
  },
  {
   "cell_type": "code",
   "execution_count": 75,
   "metadata": {},
   "outputs": [
    {
     "name": "stdout",
     "output_type": "stream",
     "text": [
      "Number of outliers: 106\n"
     ]
    }
   ],
   "source": [
    "outlier_threshold = 3\n",
    "outliers = (z_scores > outlier_threshold).any(axis=1)\n",
    "print(\"Number of outliers:\", outliers.sum())"
   ]
  },
  {
   "cell_type": "code",
   "execution_count": 76,
   "metadata": {},
   "outputs": [],
   "source": [
    "if outliers.any():\n",
    "    df.drop(df.index[outliers], inplace=True)\n",
    "    mean_values = df[numerical_features].mean().to_numpy()\n",
    "    df.loc[outliers, numerical_features] = mean_values"
   ]
  },
  {
   "cell_type": "code",
   "execution_count": 77,
   "metadata": {},
   "outputs": [
    {
     "name": "stdout",
     "output_type": "stream",
     "text": [
      "<class 'pandas.core.frame.DataFrame'>\n",
      "Index: 1278 entries, 0 to 1383\n",
      "Data columns (total 12 columns):\n",
      " #   Column              Non-Null Count  Dtype  \n",
      "---  ------              --------------  -----  \n",
      " 0   company             1278 non-null   object \n",
      " 1   company_size        1278 non-null   float64\n",
      " 2   job_title           1278 non-null   object \n",
      " 3   level               1278 non-null   object \n",
      " 4   domain              1278 non-null   object \n",
      " 5   yoe_total           1278 non-null   float64\n",
      " 6   yoe_at_company      1278 non-null   float64\n",
      " 7   base                1278 non-null   float64\n",
      " 8   stock               1278 non-null   float64\n",
      " 9   bonus               1278 non-null   float64\n",
      " 10  total_compensation  1278 non-null   float64\n",
      " 11  location            1278 non-null   object \n",
      "dtypes: float64(7), object(5)\n",
      "memory usage: 129.8+ KB\n"
     ]
    }
   ],
   "source": [
    "df.info()"
   ]
  },
  {
   "cell_type": "markdown",
   "metadata": {},
   "source": [
    "3. Consistency Check:"
   ]
  },
  {
   "cell_type": "code",
   "execution_count": 78,
   "metadata": {},
   "outputs": [
    {
     "name": "stdout",
     "output_type": "stream",
     "text": [
      "Columns with negative values:\n",
      "Index([], dtype='object')\n"
     ]
    }
   ],
   "source": [
    "#Check for negative values in columns where they are not allowed\n",
    "negative_values_columns = ['company_size', 'yoe_total', 'yoe_at_company', 'base', 'stock', 'bonus', 'total_compensation']\n",
    "negative_values = df[negative_values_columns].lt(0).any()\n",
    "print(\"Columns with negative values:\")\n",
    "print(negative_values[negative_values].index)"
   ]
  },
  {
   "cell_type": "code",
   "execution_count": 79,
   "metadata": {},
   "outputs": [],
   "source": [
    "if negative_values.any():\n",
    "    df[negative_values_columns] = df[negative_values_columns].clip(lower=0)"
   ]
  },
  {
   "cell_type": "code",
   "execution_count": 80,
   "metadata": {},
   "outputs": [],
   "source": [
    "# mình có thể thêm các điều kiện khác để kiểm tra. Ví dụ như tổng 3 mục base stock và bonus lại nhỏ hơn total_compensation"
   ]
  },
  {
   "cell_type": "markdown",
   "metadata": {},
   "source": [
    "## 3. Feature Engineering:"
   ]
  },
  {
   "cell_type": "markdown",
   "metadata": {},
   "source": [
    "1. Categorical Encoding:"
   ]
  },
  {
   "cell_type": "code",
   "execution_count": 81,
   "metadata": {},
   "outputs": [
    {
     "name": "stdout",
     "output_type": "stream",
     "text": [
      "   company  company_size  job_title  level  domain  yoe_total  yoe_at_company  \\\n",
      "0       11        7250.0         24     57     350       10.0             5.0   \n",
      "1       11        7250.0         24     55     200        4.0             3.0   \n",
      "2       11        7250.0         24     56     350       11.0            11.0   \n",
      "3       11        7250.0         24     57     266        8.0             8.0   \n",
      "4       11        7250.0         24     57      31       13.0             1.0   \n",
      "\n",
      "       base    stock    bonus  total_compensation                location  \n",
      "0  190000.0  10000.0      0.0            200000.0  San Francisco Bay Area  \n",
      "1  126000.0      0.0   7000.0            133000.0           Vancouver, WA  \n",
      "2  120000.0   5000.0  12000.0            137000.0       San Francisco, CA  \n",
      "3  100000.0  10000.0      0.0            110000.0    Hsin-chu, TP, Taiwan  \n",
      "4  185000.0  15000.0  18500.0            218500.0       San Francisco, CA  \n"
     ]
    }
   ],
   "source": [
    "label_encoder = LabelEncoder()\n",
    "\n",
    "# Encode categorical columns using label encoding\n",
    "df['company'] = label_encoder.fit_transform(df['company'])\n",
    "df['job_title'] = label_encoder.fit_transform(df['job_title'])\n",
    "df['level'] = label_encoder.fit_transform(df['level'])\n",
    "df['domain'] = label_encoder.fit_transform(df['domain'])\n",
    "\n",
    "# Display the resulting DataFrame after label encoding\n",
    "print(df.head())"
   ]
  },
  {
   "cell_type": "code",
   "execution_count": 82,
   "metadata": {},
   "outputs": [],
   "source": [
    "#đoạn này tui không biết là có nên chuyển nó hay không nữa\n",
    "# locations = df['location']\n",
    "df = df.drop(columns=['location'])\n",
    "# location_encoded = pd.get_dummies(locations, prefix='location')\n",
    "# df = pd.concat([df, location_encoded], axis=1)\n",
    "# df.head()"
   ]
  },
  {
   "cell_type": "markdown",
   "metadata": {},
   "source": [
    "2. Creating New Features:"
   ]
  },
  {
   "cell_type": "code",
   "execution_count": 83,
   "metadata": {},
   "outputs": [
    {
     "data": {
      "text/html": [
       "<div>\n",
       "<style scoped>\n",
       "    .dataframe tbody tr th:only-of-type {\n",
       "        vertical-align: middle;\n",
       "    }\n",
       "\n",
       "    .dataframe tbody tr th {\n",
       "        vertical-align: top;\n",
       "    }\n",
       "\n",
       "    .dataframe thead th {\n",
       "        text-align: right;\n",
       "    }\n",
       "</style>\n",
       "<table border=\"1\" class=\"dataframe\">\n",
       "  <thead>\n",
       "    <tr style=\"text-align: right;\">\n",
       "      <th></th>\n",
       "      <th>company</th>\n",
       "      <th>company_size</th>\n",
       "      <th>job_title</th>\n",
       "      <th>level</th>\n",
       "      <th>domain</th>\n",
       "      <th>yoe_total</th>\n",
       "      <th>yoe_at_company</th>\n",
       "      <th>base</th>\n",
       "      <th>stock</th>\n",
       "      <th>bonus</th>\n",
       "      <th>total_compensation</th>\n",
       "      <th>bonus_to_base_ratio</th>\n",
       "    </tr>\n",
       "  </thead>\n",
       "  <tbody>\n",
       "    <tr>\n",
       "      <th>0</th>\n",
       "      <td>11</td>\n",
       "      <td>7250.0</td>\n",
       "      <td>24</td>\n",
       "      <td>57</td>\n",
       "      <td>350</td>\n",
       "      <td>10.0</td>\n",
       "      <td>5.0</td>\n",
       "      <td>190000.0</td>\n",
       "      <td>10000.0</td>\n",
       "      <td>0.0</td>\n",
       "      <td>200000.0</td>\n",
       "      <td>0.000000</td>\n",
       "    </tr>\n",
       "    <tr>\n",
       "      <th>1</th>\n",
       "      <td>11</td>\n",
       "      <td>7250.0</td>\n",
       "      <td>24</td>\n",
       "      <td>55</td>\n",
       "      <td>200</td>\n",
       "      <td>4.0</td>\n",
       "      <td>3.0</td>\n",
       "      <td>126000.0</td>\n",
       "      <td>0.0</td>\n",
       "      <td>7000.0</td>\n",
       "      <td>133000.0</td>\n",
       "      <td>0.055556</td>\n",
       "    </tr>\n",
       "    <tr>\n",
       "      <th>2</th>\n",
       "      <td>11</td>\n",
       "      <td>7250.0</td>\n",
       "      <td>24</td>\n",
       "      <td>56</td>\n",
       "      <td>350</td>\n",
       "      <td>11.0</td>\n",
       "      <td>11.0</td>\n",
       "      <td>120000.0</td>\n",
       "      <td>5000.0</td>\n",
       "      <td>12000.0</td>\n",
       "      <td>137000.0</td>\n",
       "      <td>0.100000</td>\n",
       "    </tr>\n",
       "    <tr>\n",
       "      <th>3</th>\n",
       "      <td>11</td>\n",
       "      <td>7250.0</td>\n",
       "      <td>24</td>\n",
       "      <td>57</td>\n",
       "      <td>266</td>\n",
       "      <td>8.0</td>\n",
       "      <td>8.0</td>\n",
       "      <td>100000.0</td>\n",
       "      <td>10000.0</td>\n",
       "      <td>0.0</td>\n",
       "      <td>110000.0</td>\n",
       "      <td>0.000000</td>\n",
       "    </tr>\n",
       "    <tr>\n",
       "      <th>4</th>\n",
       "      <td>11</td>\n",
       "      <td>7250.0</td>\n",
       "      <td>24</td>\n",
       "      <td>57</td>\n",
       "      <td>31</td>\n",
       "      <td>13.0</td>\n",
       "      <td>1.0</td>\n",
       "      <td>185000.0</td>\n",
       "      <td>15000.0</td>\n",
       "      <td>18500.0</td>\n",
       "      <td>218500.0</td>\n",
       "      <td>0.100000</td>\n",
       "    </tr>\n",
       "  </tbody>\n",
       "</table>\n",
       "</div>"
      ],
      "text/plain": [
       "   company  company_size  job_title  level  domain  yoe_total  yoe_at_company  \\\n",
       "0       11        7250.0         24     57     350       10.0             5.0   \n",
       "1       11        7250.0         24     55     200        4.0             3.0   \n",
       "2       11        7250.0         24     56     350       11.0            11.0   \n",
       "3       11        7250.0         24     57     266        8.0             8.0   \n",
       "4       11        7250.0         24     57      31       13.0             1.0   \n",
       "\n",
       "       base    stock    bonus  total_compensation  bonus_to_base_ratio  \n",
       "0  190000.0  10000.0      0.0            200000.0             0.000000  \n",
       "1  126000.0      0.0   7000.0            133000.0             0.055556  \n",
       "2  120000.0   5000.0  12000.0            137000.0             0.100000  \n",
       "3  100000.0  10000.0      0.0            110000.0             0.000000  \n",
       "4  185000.0  15000.0  18500.0            218500.0             0.100000  "
      ]
     },
     "execution_count": 83,
     "metadata": {},
     "output_type": "execute_result"
    }
   ],
   "source": [
    "#phần này có cũng được, nó chỉ mang mục đÍch là thêm thông tin để mình train thôi\n",
    "df['bonus_to_base_ratio'] = df['bonus'] / df['base']\n",
    "df.head()"
   ]
  },
  {
   "cell_type": "markdown",
   "metadata": {},
   "source": [
    "## 4. Create, train & Test models"
   ]
  },
  {
   "cell_type": "code",
   "execution_count": 84,
   "metadata": {},
   "outputs": [],
   "source": [
    "X = df.drop('total_compensation', axis=1)\n",
    "y = df['total_compensation']\n",
    "X_train, X_test, y_train, y_test = train_test_split(X, y, test_size=0.2, random_state=42)"
   ]
  },
  {
   "cell_type": "code",
   "execution_count": 85,
   "metadata": {},
   "outputs": [
    {
     "data": {
      "text/html": [
       "<style>#sk-container-id-2 {color: black;}#sk-container-id-2 pre{padding: 0;}#sk-container-id-2 div.sk-toggleable {background-color: white;}#sk-container-id-2 label.sk-toggleable__label {cursor: pointer;display: block;width: 100%;margin-bottom: 0;padding: 0.3em;box-sizing: border-box;text-align: center;}#sk-container-id-2 label.sk-toggleable__label-arrow:before {content: \"▸\";float: left;margin-right: 0.25em;color: #696969;}#sk-container-id-2 label.sk-toggleable__label-arrow:hover:before {color: black;}#sk-container-id-2 div.sk-estimator:hover label.sk-toggleable__label-arrow:before {color: black;}#sk-container-id-2 div.sk-toggleable__content {max-height: 0;max-width: 0;overflow: hidden;text-align: left;background-color: #f0f8ff;}#sk-container-id-2 div.sk-toggleable__content pre {margin: 0.2em;color: black;border-radius: 0.25em;background-color: #f0f8ff;}#sk-container-id-2 input.sk-toggleable__control:checked~div.sk-toggleable__content {max-height: 200px;max-width: 100%;overflow: auto;}#sk-container-id-2 input.sk-toggleable__control:checked~label.sk-toggleable__label-arrow:before {content: \"▾\";}#sk-container-id-2 div.sk-estimator input.sk-toggleable__control:checked~label.sk-toggleable__label {background-color: #d4ebff;}#sk-container-id-2 div.sk-label input.sk-toggleable__control:checked~label.sk-toggleable__label {background-color: #d4ebff;}#sk-container-id-2 input.sk-hidden--visually {border: 0;clip: rect(1px 1px 1px 1px);clip: rect(1px, 1px, 1px, 1px);height: 1px;margin: -1px;overflow: hidden;padding: 0;position: absolute;width: 1px;}#sk-container-id-2 div.sk-estimator {font-family: monospace;background-color: #f0f8ff;border: 1px dotted black;border-radius: 0.25em;box-sizing: border-box;margin-bottom: 0.5em;}#sk-container-id-2 div.sk-estimator:hover {background-color: #d4ebff;}#sk-container-id-2 div.sk-parallel-item::after {content: \"\";width: 100%;border-bottom: 1px solid gray;flex-grow: 1;}#sk-container-id-2 div.sk-label:hover label.sk-toggleable__label {background-color: #d4ebff;}#sk-container-id-2 div.sk-serial::before {content: \"\";position: absolute;border-left: 1px solid gray;box-sizing: border-box;top: 0;bottom: 0;left: 50%;z-index: 0;}#sk-container-id-2 div.sk-serial {display: flex;flex-direction: column;align-items: center;background-color: white;padding-right: 0.2em;padding-left: 0.2em;position: relative;}#sk-container-id-2 div.sk-item {position: relative;z-index: 1;}#sk-container-id-2 div.sk-parallel {display: flex;align-items: stretch;justify-content: center;background-color: white;position: relative;}#sk-container-id-2 div.sk-item::before, #sk-container-id-2 div.sk-parallel-item::before {content: \"\";position: absolute;border-left: 1px solid gray;box-sizing: border-box;top: 0;bottom: 0;left: 50%;z-index: -1;}#sk-container-id-2 div.sk-parallel-item {display: flex;flex-direction: column;z-index: 1;position: relative;background-color: white;}#sk-container-id-2 div.sk-parallel-item:first-child::after {align-self: flex-end;width: 50%;}#sk-container-id-2 div.sk-parallel-item:last-child::after {align-self: flex-start;width: 50%;}#sk-container-id-2 div.sk-parallel-item:only-child::after {width: 0;}#sk-container-id-2 div.sk-dashed-wrapped {border: 1px dashed gray;margin: 0 0.4em 0.5em 0.4em;box-sizing: border-box;padding-bottom: 0.4em;background-color: white;}#sk-container-id-2 div.sk-label label {font-family: monospace;font-weight: bold;display: inline-block;line-height: 1.2em;}#sk-container-id-2 div.sk-label-container {text-align: center;}#sk-container-id-2 div.sk-container {/* jupyter's `normalize.less` sets `[hidden] { display: none; }` but bootstrap.min.css set `[hidden] { display: none !important; }` so we also need the `!important` here to be able to override the default hidden behavior on the sphinx rendered scikit-learn.org. See: https://github.com/scikit-learn/scikit-learn/issues/21755 */display: inline-block !important;position: relative;}#sk-container-id-2 div.sk-text-repr-fallback {display: none;}</style><div id=\"sk-container-id-2\" class=\"sk-top-container\"><div class=\"sk-text-repr-fallback\"><pre>LinearRegression()</pre><b>In a Jupyter environment, please rerun this cell to show the HTML representation or trust the notebook. <br />On GitHub, the HTML representation is unable to render, please try loading this page with nbviewer.org.</b></div><div class=\"sk-container\" hidden><div class=\"sk-item\"><div class=\"sk-estimator sk-toggleable\"><input class=\"sk-toggleable__control sk-hidden--visually\" id=\"sk-estimator-id-2\" type=\"checkbox\" checked><label for=\"sk-estimator-id-2\" class=\"sk-toggleable__label sk-toggleable__label-arrow\">LinearRegression</label><div class=\"sk-toggleable__content\"><pre>LinearRegression()</pre></div></div></div></div></div>"
      ],
      "text/plain": [
       "LinearRegression()"
      ]
     },
     "execution_count": 85,
     "metadata": {},
     "output_type": "execute_result"
    }
   ],
   "source": [
    "model = LinearRegression()\n",
    "model.fit(X_train, y_train)"
   ]
  },
  {
   "cell_type": "code",
   "execution_count": 86,
   "metadata": {},
   "outputs": [
    {
     "name": "stdout",
     "output_type": "stream",
     "text": [
      "Mean Squared Error: 3852930.738183551\n",
      "R-squared: 0.9998159615414253\n"
     ]
    }
   ],
   "source": [
    "y_pred = model.predict(X_test)\n",
    "mse = mean_squared_error(y_test, y_pred)\n",
    "r_squared = r2_score(y_test, y_pred)\n",
    "\n",
    "print(f'Mean Squared Error: {mse}')\n",
    "print(f'R-squared: {r_squared}')"
   ]
  }
 ],
 "metadata": {
  "kernelspec": {
   "display_name": "base",
   "language": "python",
   "name": "python3"
  },
  "language_info": {
   "codemirror_mode": {
    "name": "ipython",
    "version": 3
   },
   "file_extension": ".py",
   "mimetype": "text/x-python",
   "name": "python",
   "nbconvert_exporter": "python",
   "pygments_lexer": "ipython3",
   "version": "3.11.5"
  }
 },
 "nbformat": 4,
 "nbformat_minor": 2
}
