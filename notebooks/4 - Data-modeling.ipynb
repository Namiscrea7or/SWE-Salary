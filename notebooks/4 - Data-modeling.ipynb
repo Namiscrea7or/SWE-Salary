{
 "cells": [
  {
   "cell_type": "code",
   "execution_count": 82,
   "metadata": {},
   "outputs": [],
   "source": [
    "import pandas as pd\n",
    "import seaborn as sns\n",
    "import matplotlib.pyplot as plt\n",
    "import statsmodels.api as sm\n",
    "from sklearn.model_selection import train_test_split\n",
    "from sklearn.linear_model import LinearRegression\n",
    "from sklearn.metrics import mean_squared_error"
   ]
  },
  {
   "cell_type": "markdown",
   "metadata": {},
   "source": [
    "## Define problem"
   ]
  },
  {
   "cell_type": "markdown",
   "metadata": {},
   "source": [
    "- **Type of Problem:** Regression\n",
    "- **Objective:** Predict the total compensation of an employee based on various job-related features.\n",
    "- **Features:**\n",
    "    1. `company`: The company the employee works for (categorical).\n",
    "    2. `company_size`: The size of the company (numerical).\n",
    "    3. `job_title`: The job title of the employee (categorical).\n",
    "    4. `level`: The job level of the employee (categorical).\n",
    "    5. `domain`: The domain of the company or job (categorical).\n",
    "    6. `yoe_total`: Years of total work experience (numerical).\n",
    "    7. `yoe_at_company`: Years of work experience at the current company (numerical).\n",
    "    8. `base`: Base salary (numerical).\n",
    "    9. `stock`: Stock-related compensation (numerical).\n",
    "    10. `bonus`: Bonus amount (numerical).\n",
    "    11. `total_compensation`: **The target variable** - total compensation (numerical).\n",
    "\n",
    "- **Example Questions:**\n",
    "    - What is the expected total compensation for an employee with a certain job title, at a specific company, with a given level of experience?\n",
    "    - How much does the total compensation vary based on job level or company size?\n",
    "\n",
    "- **Potential Use Cases:**\n",
    "    - Helping HR departments and employees understand the factors influencing compensation.\n",
    "    - Guiding salary negotiations by providing estimates based on relevant features."
   ]
  },
  {
   "cell_type": "markdown",
   "metadata": {},
   "source": [
    "## Why we choose this as a regression problem?"
   ]
  },
  {
   "cell_type": "markdown",
   "metadata": {},
   "source": [
    "The problem is chosen as a <font color='#F3E5AB'>regression problem</font> because we aim to predict a continuous value, specifically the total compensation of an employee. Here are some reasons explaining why regression is an appropriate choice:\n",
    " 1. **Continuous Target Variable:** Total compensation is a continuous variable, not falling into fixed categories. When predicting an exact amount, regression is commonly used.\n",
    " 2. **Prediction of Specific Quantities:** In this context, we are interested in predicting a specific quantity, such as the exact income that an employee might have in a given scenario.\n",
    " 3. **Relationship between Features and Target:** Features such as job level, experience, domain, and base salary can significantly influence total compensation. This relationship can be well captured by regression models.\n",
    " 4. **Model Evaluation:** With regression models, we can use metrics like <font color='#F3E5AB'>Mean Squared Error (MSE)</font> or <font color='#F3E5AB'>R-squared</font> to evaluate prediction performance and measure the difference between predicted and actual values.\n",
    " 5. **Convenient for Model Interpretation:** Regression models provide a convenient way to interpret the impact of each feature on the target variable. This can be valuable in understanding why the model makes specific predictions."
   ]
  }
 ],
 "metadata": {
  "kernelspec": {
   "display_name": "base",
   "language": "python",
   "name": "python3"
  },
  "language_info": {
   "codemirror_mode": {
    "name": "ipython",
    "version": 3
   },
   "file_extension": ".py",
   "mimetype": "text/x-python",
   "name": "python",
   "nbconvert_exporter": "python",
   "pygments_lexer": "ipython3",
   "version": "3.11.5"
  }
 },
 "nbformat": 4,
 "nbformat_minor": 2
}
