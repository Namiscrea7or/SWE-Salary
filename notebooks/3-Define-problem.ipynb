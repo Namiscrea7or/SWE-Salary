{
 "cells": [
  {
   "cell_type": "code",
   "execution_count": 1,
   "metadata": {},
   "outputs": [],
   "source": [
    "import pandas as pd\n",
    "import seaborn as sns\n",
    "import matplotlib.pyplot as plt\n",
    "import statsmodels.api as sm\n",
    "from sklearn.model_selection import train_test_split\n",
    "from sklearn.linear_model import LinearRegression\n",
    "from sklearn.metrics import mean_squared_error"
   ]
  },
  {
   "cell_type": "markdown",
   "metadata": {},
   "source": [
    "## Prepare Data"
   ]
  },
  {
   "cell_type": "code",
   "execution_count": 2,
   "metadata": {},
   "outputs": [],
   "source": [
    "df = pd.read_csv('./data/cleaned_data.csv')"
   ]
  },
  {
   "cell_type": "code",
   "execution_count": 3,
   "metadata": {},
   "outputs": [
    {
     "data": {
      "text/html": [
       "<div>\n",
       "<style scoped>\n",
       "    .dataframe tbody tr th:only-of-type {\n",
       "        vertical-align: middle;\n",
       "    }\n",
       "\n",
       "    .dataframe tbody tr th {\n",
       "        vertical-align: top;\n",
       "    }\n",
       "\n",
       "    .dataframe thead th {\n",
       "        text-align: right;\n",
       "    }\n",
       "</style>\n",
       "<table border=\"1\" class=\"dataframe\">\n",
       "  <thead>\n",
       "    <tr style=\"text-align: right;\">\n",
       "      <th></th>\n",
       "      <th>company</th>\n",
       "      <th>company_size</th>\n",
       "      <th>job_title</th>\n",
       "      <th>level</th>\n",
       "      <th>domain</th>\n",
       "      <th>yoe_total</th>\n",
       "      <th>yoe_at_company</th>\n",
       "      <th>base</th>\n",
       "      <th>stock</th>\n",
       "      <th>bonus</th>\n",
       "      <th>total_compensation</th>\n",
       "      <th>location</th>\n",
       "    </tr>\n",
       "  </thead>\n",
       "  <tbody>\n",
       "    <tr>\n",
       "      <th>0</th>\n",
       "      <td>Logitech</td>\n",
       "      <td>7250</td>\n",
       "      <td>Software Engineer</td>\n",
       "      <td>I4</td>\n",
       "      <td>Testing (SDET)</td>\n",
       "      <td>10</td>\n",
       "      <td>5</td>\n",
       "      <td>190000</td>\n",
       "      <td>10000</td>\n",
       "      <td>0</td>\n",
       "      <td>200000</td>\n",
       "      <td>San Francisco Bay Area</td>\n",
       "    </tr>\n",
       "    <tr>\n",
       "      <th>1</th>\n",
       "      <td>Logitech</td>\n",
       "      <td>7250</td>\n",
       "      <td>Software Engineer</td>\n",
       "      <td>I2</td>\n",
       "      <td>ML / AI</td>\n",
       "      <td>4</td>\n",
       "      <td>3</td>\n",
       "      <td>126000</td>\n",
       "      <td>0</td>\n",
       "      <td>7000</td>\n",
       "      <td>133000</td>\n",
       "      <td>Vancouver, WA</td>\n",
       "    </tr>\n",
       "    <tr>\n",
       "      <th>2</th>\n",
       "      <td>Logitech</td>\n",
       "      <td>7250</td>\n",
       "      <td>Software Engineer</td>\n",
       "      <td>I3</td>\n",
       "      <td>Testing (SDET)</td>\n",
       "      <td>11</td>\n",
       "      <td>11</td>\n",
       "      <td>120000</td>\n",
       "      <td>5000</td>\n",
       "      <td>12000</td>\n",
       "      <td>137000</td>\n",
       "      <td>San Francisco, CA</td>\n",
       "    </tr>\n",
       "    <tr>\n",
       "      <th>3</th>\n",
       "      <td>Logitech</td>\n",
       "      <td>7250</td>\n",
       "      <td>Software Engineer</td>\n",
       "      <td>I4</td>\n",
       "      <td>Production</td>\n",
       "      <td>8</td>\n",
       "      <td>8</td>\n",
       "      <td>100000</td>\n",
       "      <td>10000</td>\n",
       "      <td>0</td>\n",
       "      <td>110000</td>\n",
       "      <td>Hsin-chu, TP, Taiwan</td>\n",
       "    </tr>\n",
       "    <tr>\n",
       "      <th>4</th>\n",
       "      <td>Logitech</td>\n",
       "      <td>7250</td>\n",
       "      <td>Software Engineer</td>\n",
       "      <td>I4</td>\n",
       "      <td>Android</td>\n",
       "      <td>13</td>\n",
       "      <td>1</td>\n",
       "      <td>185000</td>\n",
       "      <td>15000</td>\n",
       "      <td>18500</td>\n",
       "      <td>218500</td>\n",
       "      <td>San Francisco, CA</td>\n",
       "    </tr>\n",
       "  </tbody>\n",
       "</table>\n",
       "</div>"
      ],
      "text/plain": [
       "    company  company_size          job_title level          domain  yoe_total  \\\n",
       "0  Logitech          7250  Software Engineer    I4  Testing (SDET)         10   \n",
       "1  Logitech          7250  Software Engineer    I2         ML / AI          4   \n",
       "2  Logitech          7250  Software Engineer    I3  Testing (SDET)         11   \n",
       "3  Logitech          7250  Software Engineer    I4      Production          8   \n",
       "4  Logitech          7250  Software Engineer    I4         Android         13   \n",
       "\n",
       "   yoe_at_company    base  stock  bonus  total_compensation  \\\n",
       "0               5  190000  10000      0              200000   \n",
       "1               3  126000      0   7000              133000   \n",
       "2              11  120000   5000  12000              137000   \n",
       "3               8  100000  10000      0              110000   \n",
       "4               1  185000  15000  18500              218500   \n",
       "\n",
       "                 location  \n",
       "0  San Francisco Bay Area  \n",
       "1           Vancouver, WA  \n",
       "2       San Francisco, CA  \n",
       "3    Hsin-chu, TP, Taiwan  \n",
       "4       San Francisco, CA  "
      ]
     },
     "execution_count": 3,
     "metadata": {},
     "output_type": "execute_result"
    }
   ],
   "source": [
    "df.head()"
   ]
  },
  {
   "cell_type": "code",
   "execution_count": 4,
   "metadata": {},
   "outputs": [
    {
     "name": "stdout",
     "output_type": "stream",
     "text": [
      "<class 'pandas.core.frame.DataFrame'>\n",
      "RangeIndex: 1718 entries, 0 to 1717\n",
      "Data columns (total 12 columns):\n",
      " #   Column              Non-Null Count  Dtype \n",
      "---  ------              --------------  ----- \n",
      " 0   company             1718 non-null   object\n",
      " 1   company_size        1718 non-null   int64 \n",
      " 2   job_title           1718 non-null   object\n",
      " 3   level               1718 non-null   object\n",
      " 4   domain              1718 non-null   object\n",
      " 5   yoe_total           1718 non-null   int64 \n",
      " 6   yoe_at_company      1718 non-null   int64 \n",
      " 7   base                1718 non-null   int64 \n",
      " 8   stock               1718 non-null   int64 \n",
      " 9   bonus               1718 non-null   int64 \n",
      " 10  total_compensation  1718 non-null   int64 \n",
      " 11  location            1718 non-null   object\n",
      "dtypes: int64(7), object(5)\n",
      "memory usage: 161.2+ KB\n"
     ]
    }
   ],
   "source": [
    "df.info()"
   ]
  },
  {
   "cell_type": "code",
   "execution_count": 5,
   "metadata": {},
   "outputs": [],
   "source": [
    "# Chuyển đổi biến phân loại thành biến số\n"
   ]
  },
  {
   "cell_type": "markdown",
   "metadata": {},
   "source": [
    "## Define the problem\n",
    "Dự đoán mức lương (total_compensation) dựa trên các yếu tố như công ty, kích thước công ty, chức danh, cấp độ, lĩnh vực, và số năm kinh nghiệm làm việc."
   ]
  },
  {
   "cell_type": "markdown",
   "metadata": {},
   "source": [
    "**Đặt câu hỏi**\n",
    "\n",
    "Làm thế nào mà yếu tố **location** ảnh hưởng đến mức lương của người lao động?\n",
    "\n",
    "**Trả lời câu hỏi giúp chúng ta** \n",
    "- **Chiến Lược Nhân Sự Hiệu Quả**: Hiểu rõ cách địa điểm làm việc ảnh hưởng đến mức lương có thể giúp ta xây dựng chiến lược nhân sự hiệu quả. Điều này có thể bao gồm chiến lược tuyển dụng, chiến lược giữ chân nhân sự, và các chính sách mức lương phù hợp với từng địa điểm.\n",
    "- **Quyết Định Chi Tiết về Mức Lương**: Thông tin về cách địa điểm ảnh hưởng đến mức lương có thể giúp ta đưa ra các quyết định chi tiết về mức lương. Điều này bao gồm việc xác định mức lương cơ bản và yếu tố khác có thể thay đổi theo địa điểm như tiền thuê nhà, thuế, ...\n",
    "- **Quản Lý Hiệu Suất và Đàm Phán Mức Lương**: Hiểu rõ cách địa điểm làm việc ảnh hưởng đến mức lương có thể giúp quản lý hiệu suất và đàm phán mức lương hiệu quả hơn. Nếu có sự chênh lệch đáng kể giữa các địa điểm, quản lý có thể sử dụng thông tin này để thúc đẩy nhân viên và xử lý các trường hợp đàm phán.\n",
    "- **Dự Báo Chi Phí Nhân Sự**: Thông tin về cách địa điểm ảnh hưởng đến mức lương cũng có thể hỗ trợ trong việc dự báo chi phí nhân sự. Ta có thể ước lượng chi phí nhân sự tương lai dựa trên chiến lược nhân sự và chính sách mức lương tương ứng với từng địa điểm.\n",
    "- **Đối Phó với Khả Năng Chênh Lệch Khu Vực**: Nếu có sự chênh lệch mức lương giữa các địa điểm, ta có thể thực hiện các biện pháp để đối phó với khả năng chênh lệch khu vực, bảo đảm rằng chiến lược nhân sự và mức lương là phù hợp với điều kiện địa phương.\n",
    "\n",
    "**Làm sao để ta trả lời được câu hỏi này:** chúng ta sẽ xem xét số lương trung bình của từng địa điểm."
   ]
  },
  {
   "cell_type": "markdown",
   "metadata": {},
   "source": [
    "## Analyzing to get the answer"
   ]
  },
  {
   "cell_type": "code",
   "execution_count": 6,
   "metadata": {},
   "outputs": [
    {
     "data": {
      "text/html": [
       "<div>\n",
       "<style scoped>\n",
       "    .dataframe tbody tr th:only-of-type {\n",
       "        vertical-align: middle;\n",
       "    }\n",
       "\n",
       "    .dataframe tbody tr th {\n",
       "        vertical-align: top;\n",
       "    }\n",
       "\n",
       "    .dataframe thead th {\n",
       "        text-align: right;\n",
       "    }\n",
       "</style>\n",
       "<table border=\"1\" class=\"dataframe\">\n",
       "  <thead>\n",
       "    <tr style=\"text-align: right;\">\n",
       "      <th></th>\n",
       "      <th>Avg.total_compensation</th>\n",
       "      <th>location</th>\n",
       "    </tr>\n",
       "  </thead>\n",
       "  <tbody>\n",
       "    <tr>\n",
       "      <th>113</th>\n",
       "      <td>897500.000000</td>\n",
       "      <td>San Bruno, CA</td>\n",
       "    </tr>\n",
       "    <tr>\n",
       "      <th>65</th>\n",
       "      <td>642250.000000</td>\n",
       "      <td>Los Gatos, CA</td>\n",
       "    </tr>\n",
       "    <tr>\n",
       "      <th>12</th>\n",
       "      <td>505000.000000</td>\n",
       "      <td>Bloomington, IN</td>\n",
       "    </tr>\n",
       "    <tr>\n",
       "      <th>27</th>\n",
       "      <td>490666.666667</td>\n",
       "      <td>Cupertino, CA</td>\n",
       "    </tr>\n",
       "    <tr>\n",
       "      <th>15</th>\n",
       "      <td>484000.000000</td>\n",
       "      <td>Boulder, CO</td>\n",
       "    </tr>\n",
       "  </tbody>\n",
       "</table>\n",
       "</div>"
      ],
      "text/plain": [
       "     Avg.total_compensation         location\n",
       "113           897500.000000    San Bruno, CA\n",
       "65            642250.000000    Los Gatos, CA\n",
       "12            505000.000000  Bloomington, IN\n",
       "27            490666.666667    Cupertino, CA\n",
       "15            484000.000000      Boulder, CO"
      ]
     },
     "execution_count": 6,
     "metadata": {},
     "output_type": "execute_result"
    }
   ],
   "source": [
    "avg_salary_df = pd.DataFrame()\n",
    "\n",
    "# YOUR CODE HERE\n",
    "\n",
    "# Find average for each country\n",
    "avg_salary_df[\"Avg.total_compensation\"] = df.groupby(\"location\")[\"total_compensation\"].mean()\n",
    "\n",
    "# Set the index as a column - countries\n",
    "avg_salary_df[\"location\"] = avg_salary_df.index\n",
    "\n",
    "# Drop the index\n",
    "avg_salary_df.reset_index(drop=True, inplace=True)\n",
    "\n",
    "# Sort the rows based of Average Birth Rate\n",
    "avg_salary_df.sort_values(\"Avg.total_compensation\", inplace=True, ascending=False)\n",
    "\n",
    "# Display\n",
    "avg_salary_df.head()"
   ]
  },
  {
   "cell_type": "code",
   "execution_count": 7,
   "metadata": {},
   "outputs": [
    {
     "data": {
      "image/png": "[encoded data removed]",
      "text/plain": [
       "<Figure size 800x500 with 1 Axes>"
      ]
     },
     "metadata": {},
     "output_type": "display_data"
    }
   ],
   "source": [
    "plt.figure(figsize=(8, 5))\n",
    "sns.set(style=\"whitegrid\")\n",
    "ax = sns.barplot(data=avg_salary_df.head(), x=\"location\", y= \"Avg.total_compensation\")"
   ]
  }
 ],
 "metadata": {
  "kernelspec": {
   "display_name": "base",
   "language": "python",
   "name": "python3"
  },
  "language_info": {
   "codemirror_mode": {
    "name": "ipython",
    "version": 3
   },
   "file_extension": ".py",
   "mimetype": "text/x-python",
   "name": "python",
   "nbconvert_exporter": "python",
   "pygments_lexer": "ipython3",
   "version": "3.11.5"
  }
 },
 "nbformat": 4,
 "nbformat_minor": 2
}
