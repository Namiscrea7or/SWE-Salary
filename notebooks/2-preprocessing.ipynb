{
 "cells": [
  {
   "cell_type": "markdown",
   "metadata": {},
   "source": [
    "### Import"
   ]
  },
  {
   "cell_type": "code",
   "execution_count": 307,
   "metadata": {},
   "outputs": [],
   "source": [
    "import pandas as pd"
   ]
  },
  {
   "cell_type": "markdown",
   "metadata": {},
   "source": [
    "### Preview data"
   ]
  },
  {
   "cell_type": "code",
   "execution_count": 308,
   "metadata": {},
   "outputs": [
    {
     "data": {
      "text/html": [
       "<div>\n",
       "<style scoped>\n",
       "    .dataframe tbody tr th:only-of-type {\n",
       "        vertical-align: middle;\n",
       "    }\n",
       "\n",
       "    .dataframe tbody tr th {\n",
       "        vertical-align: top;\n",
       "    }\n",
       "\n",
       "    .dataframe thead th {\n",
       "        text-align: right;\n",
       "    }\n",
       "</style>\n",
       "<table border=\"1\" class=\"dataframe\">\n",
       "  <thead>\n",
       "    <tr style=\"text-align: right;\">\n",
       "      <th></th>\n",
       "      <th>company</th>\n",
       "      <th>company_size</th>\n",
       "      <th>job_title</th>\n",
       "      <th>level</th>\n",
       "      <th>domain</th>\n",
       "      <th>yoe_total</th>\n",
       "      <th>yoe_at_company</th>\n",
       "      <th>base</th>\n",
       "      <th>stock</th>\n",
       "      <th>bonus</th>\n",
       "      <th>total_compensation</th>\n",
       "      <th>location</th>\n",
       "    </tr>\n",
       "  </thead>\n",
       "  <tbody>\n",
       "    <tr>\n",
       "      <th>0</th>\n",
       "      <td>Logitech</td>\n",
       "      <td>7,250</td>\n",
       "      <td>Software Engineer</td>\n",
       "      <td>I4</td>\n",
       "      <td>Testing (SDET)</td>\n",
       "      <td>10 yrs</td>\n",
       "      <td>5 yrs</td>\n",
       "      <td>190K</td>\n",
       "      <td>10K</td>\n",
       "      <td>NaN</td>\n",
       "      <td>$200,000</td>\n",
       "      <td>San Francisco Bay Area</td>\n",
       "    </tr>\n",
       "    <tr>\n",
       "      <th>1</th>\n",
       "      <td>Logitech</td>\n",
       "      <td>7,250</td>\n",
       "      <td>Software Engineer</td>\n",
       "      <td>I2</td>\n",
       "      <td>ML / AI</td>\n",
       "      <td>4 yrs</td>\n",
       "      <td>3 yrs</td>\n",
       "      <td>126K</td>\n",
       "      <td>NaN</td>\n",
       "      <td>7K</td>\n",
       "      <td>$133,000</td>\n",
       "      <td>Vancouver, WA</td>\n",
       "    </tr>\n",
       "    <tr>\n",
       "      <th>2</th>\n",
       "      <td>Logitech</td>\n",
       "      <td>7,250</td>\n",
       "      <td>Software Engineer</td>\n",
       "      <td>I3</td>\n",
       "      <td>Testing (SDET)</td>\n",
       "      <td>11+ yrs</td>\n",
       "      <td>11+ yrs</td>\n",
       "      <td>120K</td>\n",
       "      <td>5K</td>\n",
       "      <td>12K</td>\n",
       "      <td>$137,000</td>\n",
       "      <td>San Francisco, CA</td>\n",
       "    </tr>\n",
       "    <tr>\n",
       "      <th>3</th>\n",
       "      <td>Logitech</td>\n",
       "      <td>7,250</td>\n",
       "      <td>Software Engineer</td>\n",
       "      <td>hidden</td>\n",
       "      <td>hidden</td>\n",
       "      <td>0-1 yrs</td>\n",
       "      <td>0-1 yrs</td>\n",
       "      <td>90K</td>\n",
       "      <td>NaN</td>\n",
       "      <td>NaN</td>\n",
       "      <td>$90,000</td>\n",
       "      <td>Newark, CA</td>\n",
       "    </tr>\n",
       "    <tr>\n",
       "      <th>4</th>\n",
       "      <td>Logitech</td>\n",
       "      <td>7,250</td>\n",
       "      <td>Software Engineer</td>\n",
       "      <td>I4</td>\n",
       "      <td>Production</td>\n",
       "      <td>8 yrs</td>\n",
       "      <td>8 yrs</td>\n",
       "      <td>100K</td>\n",
       "      <td>10K</td>\n",
       "      <td>NaN</td>\n",
       "      <td>$110,000</td>\n",
       "      <td>Hsin-chu, TP, Taiwan</td>\n",
       "    </tr>\n",
       "  </tbody>\n",
       "</table>\n",
       "</div>"
      ],
      "text/plain": [
       "    company company_size          job_title   level          domain yoe_total  \\\n",
       "0  Logitech        7,250  Software Engineer      I4  Testing (SDET)    10 yrs   \n",
       "1  Logitech        7,250  Software Engineer      I2         ML / AI     4 yrs   \n",
       "2  Logitech        7,250  Software Engineer      I3  Testing (SDET)   11+ yrs   \n",
       "3  Logitech        7,250  Software Engineer  hidden          hidden   0-1 yrs   \n",
       "4  Logitech        7,250  Software Engineer      I4      Production     8 yrs   \n",
       "\n",
       "  yoe_at_company  base stock bonus total_compensation                location  \n",
       "0          5 yrs  190K   10K   NaN           $200,000  San Francisco Bay Area  \n",
       "1          3 yrs  126K   NaN    7K           $133,000           Vancouver, WA  \n",
       "2        11+ yrs  120K    5K   12K           $137,000       San Francisco, CA  \n",
       "3        0-1 yrs   90K   NaN   NaN            $90,000              Newark, CA  \n",
       "4          8 yrs  100K   10K   NaN           $110,000    Hsin-chu, TP, Taiwan  "
      ]
     },
     "execution_count": 308,
     "metadata": {},
     "output_type": "execute_result"
    }
   ],
   "source": [
    "raw_df = pd.read_csv('./data/raw_data.csv')\n",
    "raw_df.head()"
   ]
  },
  {
   "cell_type": "markdown",
   "metadata": {},
   "source": [
    "### Data shape"
   ]
  },
  {
   "cell_type": "code",
   "execution_count": 309,
   "metadata": {},
   "outputs": [
    {
     "name": "stdout",
     "output_type": "stream",
     "text": [
      "Raw data shape: (2040, 12)\n"
     ]
    }
   ],
   "source": [
    "shape = raw_df.shape\n",
    "print(f'Raw data shape: {shape}')"
   ]
  },
  {
   "cell_type": "markdown",
   "metadata": {},
   "source": [
    "### Col meaning"
   ]
  },
  {
   "cell_type": "code",
   "execution_count": 310,
   "metadata": {},
   "outputs": [
    {
     "data": {
      "text/html": [
       "<div>\n",
       "<style scoped>\n",
       "    .dataframe tbody tr th:only-of-type {\n",
       "        vertical-align: middle;\n",
       "    }\n",
       "\n",
       "    .dataframe tbody tr th {\n",
       "        vertical-align: top;\n",
       "    }\n",
       "\n",
       "    .dataframe thead th {\n",
       "        text-align: right;\n",
       "    }\n",
       "</style>\n",
       "<table border=\"1\" class=\"dataframe\">\n",
       "  <thead>\n",
       "    <tr style=\"text-align: right;\">\n",
       "      <th></th>\n",
       "      <th>Query API</th>\n",
       "      <th>Meaning</th>\n",
       "    </tr>\n",
       "  </thead>\n",
       "  <tbody>\n",
       "    <tr>\n",
       "      <th>0</th>\n",
       "      <td>company</td>\n",
       "      <td>Company</td>\n",
       "    </tr>\n",
       "    <tr>\n",
       "      <th>1</th>\n",
       "      <td>company_size</td>\n",
       "      <td>Company Size</td>\n",
       "    </tr>\n",
       "    <tr>\n",
       "      <th>2</th>\n",
       "      <td>job_title</td>\n",
       "      <td>Job Title</td>\n",
       "    </tr>\n",
       "    <tr>\n",
       "      <th>3</th>\n",
       "      <td>level</td>\n",
       "      <td>Level</td>\n",
       "    </tr>\n",
       "    <tr>\n",
       "      <th>4</th>\n",
       "      <td>domain</td>\n",
       "      <td>Domain</td>\n",
       "    </tr>\n",
       "    <tr>\n",
       "      <th>5</th>\n",
       "      <td>yoe_total</td>\n",
       "      <td>Years of Experience</td>\n",
       "    </tr>\n",
       "    <tr>\n",
       "      <th>6</th>\n",
       "      <td>yoe_at_company</td>\n",
       "      <td>Years of Experience at Company</td>\n",
       "    </tr>\n",
       "    <tr>\n",
       "      <th>7</th>\n",
       "      <td>base</td>\n",
       "      <td>Base Salary (USD)</td>\n",
       "    </tr>\n",
       "    <tr>\n",
       "      <th>8</th>\n",
       "      <td>stock</td>\n",
       "      <td>Stock (USD)</td>\n",
       "    </tr>\n",
       "    <tr>\n",
       "      <th>9</th>\n",
       "      <td>bonus</td>\n",
       "      <td>Bonus (USD)</td>\n",
       "    </tr>\n",
       "    <tr>\n",
       "      <th>10</th>\n",
       "      <td>total_compensation</td>\n",
       "      <td>Total Compensation (USD)</td>\n",
       "    </tr>\n",
       "    <tr>\n",
       "      <th>11</th>\n",
       "      <td>location</td>\n",
       "      <td>Location</td>\n",
       "    </tr>\n",
       "  </tbody>\n",
       "</table>\n",
       "</div>"
      ],
      "text/plain": [
       "             Query API                         Meaning\n",
       "0              company                         Company\n",
       "1         company_size                    Company Size\n",
       "2            job_title                       Job Title\n",
       "3                level                           Level\n",
       "4               domain                          Domain\n",
       "5            yoe_total             Years of Experience\n",
       "6       yoe_at_company  Years of Experience at Company\n",
       "7                 base               Base Salary (USD)\n",
       "8                stock                     Stock (USD)\n",
       "9                bonus                     Bonus (USD)\n",
       "10  total_compensation        Total Compensation (USD)\n",
       "11            location                        Location"
      ]
     },
     "execution_count": 310,
     "metadata": {},
     "output_type": "execute_result"
    }
   ],
   "source": [
    "col_meaning_df = pd.read_csv('./data/schema.csv')\n",
    "col_meaning_df"
   ]
  },
  {
   "cell_type": "markdown",
   "metadata": {},
   "source": [
    "### Check for duplicates"
   ]
  },
  {
   "cell_type": "code",
   "execution_count": 311,
   "metadata": {},
   "outputs": [
    {
     "name": "stdout",
     "output_type": "stream",
     "text": [
      "Raw data shape after dropping duplicates: (2038, 12)\n"
     ]
    }
   ],
   "source": [
    "raw_df.drop_duplicates(inplace=True)\n",
    "shape = raw_df.shape\n",
    "print(f'Raw data shape after dropping duplicates: {shape}')"
   ]
  },
  {
   "cell_type": "markdown",
   "metadata": {},
   "source": [
    "### Types"
   ]
  },
  {
   "cell_type": "code",
   "execution_count": 312,
   "metadata": {},
   "outputs": [
    {
     "data": {
      "text/plain": [
       "company               object\n",
       "company_size          object\n",
       "job_title             object\n",
       "level                 object\n",
       "domain                object\n",
       "yoe_total             object\n",
       "yoe_at_company        object\n",
       "base                  object\n",
       "stock                 object\n",
       "bonus                 object\n",
       "total_compensation    object\n",
       "location              object\n",
       "dtype: object"
      ]
     },
     "execution_count": 312,
     "metadata": {},
     "output_type": "execute_result"
    }
   ],
   "source": [
    "dtypes = raw_df.dtypes\n",
    "dtypes"
   ]
  },
  {
   "cell_type": "code",
   "execution_count": 313,
   "metadata": {},
   "outputs": [
    {
     "data": {
      "text/plain": [
       "0    7250\n",
       "1    7250\n",
       "2    7250\n",
       "3    7250\n",
       "4    7250\n",
       "Name: company_size, dtype: int64"
      ]
     },
     "execution_count": 313,
     "metadata": {},
     "output_type": "execute_result"
    }
   ],
   "source": [
    "# convert the company_size column from object (e.g. 2,000) to int (e.g. 2000)\n",
    "raw_df['company_size'] = raw_df['company_size'].str.replace(',', '').astype(int)\n",
    "raw_df['company_size'].head()"
   ]
  },
  {
   "cell_type": "code",
   "execution_count": 314,
   "metadata": {},
   "outputs": [
    {
     "data": {
      "text/html": [
       "<div>\n",
       "<style scoped>\n",
       "    .dataframe tbody tr th:only-of-type {\n",
       "        vertical-align: middle;\n",
       "    }\n",
       "\n",
       "    .dataframe tbody tr th {\n",
       "        vertical-align: top;\n",
       "    }\n",
       "\n",
       "    .dataframe thead th {\n",
       "        text-align: right;\n",
       "    }\n",
       "</style>\n",
       "<table border=\"1\" class=\"dataframe\">\n",
       "  <thead>\n",
       "    <tr style=\"text-align: right;\">\n",
       "      <th></th>\n",
       "      <th>base</th>\n",
       "      <th>stock</th>\n",
       "      <th>bonus</th>\n",
       "    </tr>\n",
       "  </thead>\n",
       "  <tbody>\n",
       "    <tr>\n",
       "      <th>0</th>\n",
       "      <td>190000.0</td>\n",
       "      <td>10000.0</td>\n",
       "      <td>NaN</td>\n",
       "    </tr>\n",
       "    <tr>\n",
       "      <th>1</th>\n",
       "      <td>126000.0</td>\n",
       "      <td>NaN</td>\n",
       "      <td>7000.0</td>\n",
       "    </tr>\n",
       "    <tr>\n",
       "      <th>2</th>\n",
       "      <td>120000.0</td>\n",
       "      <td>5000.0</td>\n",
       "      <td>12000.0</td>\n",
       "    </tr>\n",
       "    <tr>\n",
       "      <th>3</th>\n",
       "      <td>90000.0</td>\n",
       "      <td>NaN</td>\n",
       "      <td>NaN</td>\n",
       "    </tr>\n",
       "    <tr>\n",
       "      <th>4</th>\n",
       "      <td>100000.0</td>\n",
       "      <td>10000.0</td>\n",
       "      <td>NaN</td>\n",
       "    </tr>\n",
       "  </tbody>\n",
       "</table>\n",
       "</div>"
      ],
      "text/plain": [
       "       base    stock    bonus\n",
       "0  190000.0  10000.0      NaN\n",
       "1  126000.0      NaN   7000.0\n",
       "2  120000.0   5000.0  12000.0\n",
       "3   90000.0      NaN      NaN\n",
       "4  100000.0  10000.0      NaN"
      ]
     },
     "execution_count": 314,
     "metadata": {},
     "output_type": "execute_result"
    }
   ],
   "source": [
    "# convert the base, stock, bonus columns from object (e.g. 80K) to int (e.g. 80000), skip the NaN values\n",
    "# K -> 1000, M -> 1000000\n",
    "raw_df['base'] = raw_df['base'].str.replace('K', '').str.replace('M', '000').astype(float) * 1000\n",
    "raw_df['stock'] = raw_df['stock'].str.replace('K', '').str.replace('M', '000').astype(float) * 1000\n",
    "raw_df['bonus'] = raw_df['bonus'].str.replace('K', '').str.replace('M', '000').astype(float) * 1000\n",
    "raw_df[['base', 'stock', 'bonus']].head()"
   ]
  },
  {
   "cell_type": "code",
   "execution_count": 315,
   "metadata": {},
   "outputs": [
    {
     "data": {
      "text/plain": [
       "0    200000.0\n",
       "1    133000.0\n",
       "2    137000.0\n",
       "3     90000.0\n",
       "4    110000.0\n",
       "Name: total_compensation, dtype: float64"
      ]
     },
     "execution_count": 315,
     "metadata": {},
     "output_type": "execute_result"
    }
   ],
   "source": [
    "# convert the total_compensation column from object (e.g. $240,000) to int (e.g. 240000)\n",
    "raw_df['total_compensation'] = raw_df['total_compensation'].str.replace('$', '').str.replace(',', '').astype(float)\n",
    "raw_df['total_compensation'].head()"
   ]
  },
  {
   "cell_type": "code",
   "execution_count": 316,
   "metadata": {},
   "outputs": [
    {
     "data": {
      "text/plain": [
       "company                object\n",
       "company_size            int64\n",
       "job_title              object\n",
       "level                  object\n",
       "domain                 object\n",
       "yoe_total              object\n",
       "yoe_at_company         object\n",
       "base                  float64\n",
       "stock                 float64\n",
       "bonus                 float64\n",
       "total_compensation    float64\n",
       "location               object\n",
       "dtype: object"
      ]
     },
     "execution_count": 316,
     "metadata": {},
     "output_type": "execute_result"
    }
   ],
   "source": [
    "dtypes = raw_df.dtypes\n",
    "dtypes"
   ]
  },
  {
   "cell_type": "markdown",
   "metadata": {},
   "source": [
    "### Deal with missing values"
   ]
  },
  {
   "cell_type": "code",
   "execution_count": 317,
   "metadata": {},
   "outputs": [
    {
     "name": "stdout",
     "output_type": "stream",
     "text": [
      "Number of null values in each column:\n"
     ]
    },
    {
     "data": {
      "text/plain": [
       "company                 0\n",
       "company_size            0\n",
       "job_title               0\n",
       "level                   0\n",
       "domain                  1\n",
       "yoe_total               0\n",
       "yoe_at_company          0\n",
       "base                    0\n",
       "stock                 619\n",
       "bonus                 940\n",
       "total_compensation      0\n",
       "location                0\n",
       "dtype: int64"
      ]
     },
     "execution_count": 317,
     "metadata": {},
     "output_type": "execute_result"
    }
   ],
   "source": [
    "# Check for null values\n",
    "print('Number of null values in each column:')\n",
    "raw_df.isnull().sum()"
   ]
  },
  {
   "cell_type": "code",
   "execution_count": 318,
   "metadata": {},
   "outputs": [
    {
     "name": "stdout",
     "output_type": "stream",
     "text": [
      "Missing values ratio:\n"
     ]
    },
    {
     "data": {
      "text/plain": [
       "company                0.0\n",
       "company_size           0.0\n",
       "job_title              0.0\n",
       "level                  0.0\n",
       "domain                 0.0\n",
       "yoe_total              0.0\n",
       "yoe_at_company         0.0\n",
       "base                   0.0\n",
       "stock                 30.4\n",
       "bonus                 46.1\n",
       "total_compensation     0.0\n",
       "location               0.0\n",
       "dtype: float64"
      ]
     },
     "execution_count": 318,
     "metadata": {},
     "output_type": "execute_result"
    }
   ],
   "source": [
    "def missing_ratio(s):\n",
    "    return (s.isna().mean() * 100).round(1)\n",
    "\n",
    "print('Missing values ratio:')\n",
    "raw_df.apply(missing_ratio)"
   ]
  },
  {
   "cell_type": "code",
   "execution_count": 319,
   "metadata": {},
   "outputs": [
    {
     "data": {
      "text/plain": [
       "(2038, 12)"
      ]
     },
     "execution_count": 319,
     "metadata": {},
     "output_type": "execute_result"
    }
   ],
   "source": [
    "# Drop columns with more than 50% null values\n",
    "raw_df.dropna(thresh=0.5*raw_df.shape[0], axis=1, inplace=True)\n",
    "raw_df.shape"
   ]
  },
  {
   "cell_type": "code",
   "execution_count": 320,
   "metadata": {},
   "outputs": [
    {
     "data": {
      "text/plain": [
       "0"
      ]
     },
     "execution_count": 320,
     "metadata": {},
     "output_type": "execute_result"
    }
   ],
   "source": [
    "# Fill all the null values in domain column with 'Others'\n",
    "raw_df['domain'].fillna('Others', inplace=True)\n",
    "raw_df['domain'].isnull().sum()"
   ]
  },
  {
   "cell_type": "code",
   "execution_count": 321,
   "metadata": {},
   "outputs": [
    {
     "data": {
      "text/plain": [
       "0"
      ]
     },
     "execution_count": 321,
     "metadata": {},
     "output_type": "execute_result"
    }
   ],
   "source": [
    "# Fill all the NaN values in company_size column with the median value\n",
    "raw_df['company_size'].fillna(raw_df['company_size'].median(), inplace=True)\n",
    "raw_df['company_size'].isnull().sum()"
   ]
  },
  {
   "cell_type": "code",
   "execution_count": 322,
   "metadata": {},
   "outputs": [
    {
     "data": {
      "text/plain": [
       "base     0\n",
       "stock    0\n",
       "bonus    0\n",
       "dtype: int64"
      ]
     },
     "execution_count": 322,
     "metadata": {},
     "output_type": "execute_result"
    }
   ],
   "source": [
    "# Fill all the NaN values in base, stock, bonus columns with 0\n",
    "raw_df['base'].fillna(0, inplace=True)\n",
    "raw_df['stock'].fillna(0, inplace=True)\n",
    "raw_df['bonus'].fillna(0, inplace=True)\n",
    "raw_df[['base', 'stock', 'bonus']].isnull().sum()"
   ]
  },
  {
   "cell_type": "code",
   "execution_count": 323,
   "metadata": {},
   "outputs": [
    {
     "data": {
      "text/plain": [
       "0"
      ]
     },
     "execution_count": 323,
     "metadata": {},
     "output_type": "execute_result"
    }
   ],
   "source": [
    "# Fill all the NaN values in total_compensation column with the sum of base, stock, bonus columns\n",
    "raw_df['total_compensation'].fillna(raw_df['base'] + raw_df['stock'] + raw_df['bonus'], inplace=True)\n",
    "raw_df['total_compensation'].isnull().sum()"
   ]
  },
  {
   "cell_type": "code",
   "execution_count": 324,
   "metadata": {},
   "outputs": [
    {
     "name": "stdout",
     "output_type": "stream",
     "text": [
      "Number of null values in each column:\n"
     ]
    },
    {
     "data": {
      "text/plain": [
       "company               0\n",
       "company_size          0\n",
       "job_title             0\n",
       "level                 0\n",
       "domain                0\n",
       "yoe_total             0\n",
       "yoe_at_company        0\n",
       "base                  0\n",
       "stock                 0\n",
       "bonus                 0\n",
       "total_compensation    0\n",
       "location              0\n",
       "dtype: int64"
      ]
     },
     "execution_count": 324,
     "metadata": {},
     "output_type": "execute_result"
    }
   ],
   "source": [
    "# Re-check for null values\n",
    "print('Number of null values in each column:')\n",
    "raw_df.isnull().sum()"
   ]
  },
  {
   "cell_type": "code",
   "execution_count": 325,
   "metadata": {},
   "outputs": [
    {
     "data": {
      "text/plain": [
       "(2038, 12)"
      ]
     },
     "execution_count": 325,
     "metadata": {},
     "output_type": "execute_result"
    }
   ],
   "source": [
    "raw_df.shape"
   ]
  },
  {
   "cell_type": "markdown",
   "metadata": {},
   "source": [
    "### Is the collected data reasonable?"
   ]
  },
  {
   "cell_type": "code",
   "execution_count": 326,
   "metadata": {},
   "outputs": [
    {
     "name": "stdout",
     "output_type": "stream",
     "text": [
      "Number of rows with wrong total_compensation: 294\n",
      "Ratio: 14.43%\n"
     ]
    },
    {
     "data": {
      "text/html": [
       "<div>\n",
       "<style scoped>\n",
       "    .dataframe tbody tr th:only-of-type {\n",
       "        vertical-align: middle;\n",
       "    }\n",
       "\n",
       "    .dataframe tbody tr th {\n",
       "        vertical-align: top;\n",
       "    }\n",
       "\n",
       "    .dataframe thead th {\n",
       "        text-align: right;\n",
       "    }\n",
       "</style>\n",
       "<table border=\"1\" class=\"dataframe\">\n",
       "  <thead>\n",
       "    <tr style=\"text-align: right;\">\n",
       "      <th></th>\n",
       "      <th>company</th>\n",
       "      <th>company_size</th>\n",
       "      <th>job_title</th>\n",
       "      <th>level</th>\n",
       "      <th>domain</th>\n",
       "      <th>yoe_total</th>\n",
       "      <th>yoe_at_company</th>\n",
       "      <th>base</th>\n",
       "      <th>stock</th>\n",
       "      <th>bonus</th>\n",
       "      <th>total_compensation</th>\n",
       "      <th>location</th>\n",
       "    </tr>\n",
       "  </thead>\n",
       "  <tbody>\n",
       "    <tr>\n",
       "      <th>5</th>\n",
       "      <td>Logitech</td>\n",
       "      <td>7250</td>\n",
       "      <td>Software Engineer</td>\n",
       "      <td>I1</td>\n",
       "      <td>ML / AI</td>\n",
       "      <td>2 yrs</td>\n",
       "      <td>0 yrs</td>\n",
       "      <td>123100.0</td>\n",
       "      <td>0.0</td>\n",
       "      <td>0.0</td>\n",
       "      <td>123097.0</td>\n",
       "      <td>New York, NY</td>\n",
       "    </tr>\n",
       "    <tr>\n",
       "      <th>8</th>\n",
       "      <td>Logitech</td>\n",
       "      <td>7250</td>\n",
       "      <td>Software Engineer</td>\n",
       "      <td>I2</td>\n",
       "      <td>Web Development (Front-End)</td>\n",
       "      <td>4 yrs</td>\n",
       "      <td>2 yrs</td>\n",
       "      <td>51500.0</td>\n",
       "      <td>0.0</td>\n",
       "      <td>4800.0</td>\n",
       "      <td>56250.0</td>\n",
       "      <td>Cork, CK, Ireland</td>\n",
       "    </tr>\n",
       "    <tr>\n",
       "      <th>9</th>\n",
       "      <td>Microsoft</td>\n",
       "      <td>182268</td>\n",
       "      <td>Software Engineer</td>\n",
       "      <td>60</td>\n",
       "      <td>Full Stack</td>\n",
       "      <td>2 yrs</td>\n",
       "      <td>2 yrs</td>\n",
       "      <td>24000.0</td>\n",
       "      <td>7200.0</td>\n",
       "      <td>2400.0</td>\n",
       "      <td>33576.0</td>\n",
       "      <td>Noida, UP, India</td>\n",
       "    </tr>\n",
       "    <tr>\n",
       "      <th>10</th>\n",
       "      <td>Microsoft</td>\n",
       "      <td>182268</td>\n",
       "      <td>Software Engineer</td>\n",
       "      <td>60</td>\n",
       "      <td>API Development (Back-End)</td>\n",
       "      <td>4 yrs</td>\n",
       "      <td>2 yrs</td>\n",
       "      <td>25200.0</td>\n",
       "      <td>4000.0</td>\n",
       "      <td>3600.0</td>\n",
       "      <td>32786.0</td>\n",
       "      <td>Hyderabad, TS, India</td>\n",
       "    </tr>\n",
       "    <tr>\n",
       "      <th>11</th>\n",
       "      <td>Microsoft</td>\n",
       "      <td>182268</td>\n",
       "      <td>Software Engineer</td>\n",
       "      <td>Principal SDE</td>\n",
       "      <td>Full Stack</td>\n",
       "      <td>13 yrs</td>\n",
       "      <td>11 yrs</td>\n",
       "      <td>73400.0</td>\n",
       "      <td>38300.0</td>\n",
       "      <td>11700.0</td>\n",
       "      <td>123364.0</td>\n",
       "      <td>Bengaluru, KA, India</td>\n",
       "    </tr>\n",
       "  </tbody>\n",
       "</table>\n",
       "</div>"
      ],
      "text/plain": [
       "      company  company_size          job_title          level  \\\n",
       "5    Logitech          7250  Software Engineer             I1   \n",
       "8    Logitech          7250  Software Engineer             I2   \n",
       "9   Microsoft        182268  Software Engineer             60   \n",
       "10  Microsoft        182268  Software Engineer             60   \n",
       "11  Microsoft        182268  Software Engineer  Principal SDE   \n",
       "\n",
       "                         domain yoe_total yoe_at_company      base    stock  \\\n",
       "5                       ML / AI     2 yrs          0 yrs  123100.0      0.0   \n",
       "8   Web Development (Front-End)     4 yrs          2 yrs   51500.0      0.0   \n",
       "9                    Full Stack     2 yrs          2 yrs   24000.0   7200.0   \n",
       "10   API Development (Back-End)     4 yrs          2 yrs   25200.0   4000.0   \n",
       "11                   Full Stack    13 yrs         11 yrs   73400.0  38300.0   \n",
       "\n",
       "      bonus  total_compensation              location  \n",
       "5       0.0            123097.0          New York, NY  \n",
       "8    4800.0             56250.0     Cork, CK, Ireland  \n",
       "9    2400.0             33576.0      Noida, UP, India  \n",
       "10   3600.0             32786.0  Hyderabad, TS, India  \n",
       "11  11700.0            123364.0  Bengaluru, KA, India  "
      ]
     },
     "execution_count": 326,
     "metadata": {},
     "output_type": "execute_result"
    }
   ],
   "source": [
    "# total_compensation must be greater than or equal to base, stock, bonus\n",
    "rows_with_wrong_total_compensation = raw_df[raw_df['total_compensation'] < raw_df['base'] + raw_df['stock'] + raw_df['bonus']]\n",
    "print(f'Number of rows with wrong total_compensation: {rows_with_wrong_total_compensation.shape[0]}')\n",
    "print(f'Ratio: {rows_with_wrong_total_compensation.shape[0] / raw_df.shape[0] * 100:.2f}%')\n",
    "rows_with_wrong_total_compensation.head()"
   ]
  },
  {
   "cell_type": "code",
   "execution_count": 327,
   "metadata": {},
   "outputs": [
    {
     "data": {
      "text/plain": [
       "(1744, 12)"
      ]
     },
     "execution_count": 327,
     "metadata": {},
     "output_type": "execute_result"
    }
   ],
   "source": [
    "# Drop rows with wrong total_compensation\n",
    "raw_df.drop(rows_with_wrong_total_compensation.index, inplace=True)\n",
    "raw_df.shape"
   ]
  },
  {
   "cell_type": "markdown",
   "metadata": {},
   "source": [
    "### Save the preprocessed data"
   ]
  },
  {
   "cell_type": "code",
   "execution_count": 328,
   "metadata": {},
   "outputs": [],
   "source": [
    "raw_df.to_csv('./data/cleaned_data.csv', index=False)"
   ]
  }
 ],
 "metadata": {
  "kernelspec": {
   "display_name": "Python 3",
   "language": "python",
   "name": "python3"
  },
  "language_info": {
   "codemirror_mode": {
    "name": "ipython",
    "version": 3
   },
   "file_extension": ".py",
   "mimetype": "text/x-python",
   "name": "python",
   "nbconvert_exporter": "python",
   "pygments_lexer": "ipython3",
   "version": "3.11.3"
  }
 },
 "nbformat": 4,
 "nbformat_minor": 2
}
