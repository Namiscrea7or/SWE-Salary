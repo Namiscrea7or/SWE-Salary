{
 "cells": [
  {
   "cell_type": "markdown",
   "metadata": {},
   "source": [
    "## Preparation"
   ]
  },
  {
   "cell_type": "code",
   "execution_count": 179,
   "metadata": {},
   "outputs": [],
   "source": [
    "import requests\n",
    "import pandas as pd\n",
    "from bs4 import BeautifulSoup\n",
    "from selenium import webdriver\n",
    "from selenium.webdriver.common.by import By"
   ]
  },
  {
   "cell_type": "code",
   "execution_count": 143,
   "metadata": {},
   "outputs": [],
   "source": [
    "df = pd.DataFrame(columns=[\n",
    "\t'company',\n",
    "\t'company_size',\n",
    "\t'job_title',\n",
    "\t'level',\n",
    "\t'domain',\n",
    "\t'yoe_total',\n",
    "\t'yoe_at_company',\n",
    "\t'total_compensation',\n",
    "\t'location'\n",
    "])"
   ]
  },
  {
   "cell_type": "markdown",
   "metadata": {},
   "source": [
    "## Site: levels.fyi"
   ]
  },
  {
   "cell_type": "code",
   "execution_count": 183,
   "metadata": {},
   "outputs": [
    {
     "data": {
      "text/plain": [
       "['Google',\n",
       " 'Amazon',\n",
       " 'Apple',\n",
       " 'Lyft',\n",
       " 'Facebook',\n",
       " 'Microsoft',\n",
       " 'Uber',\n",
       " 'Stripe',\n",
       " 'Roblox',\n",
       " 'Coinbase',\n",
       " 'Databricks',\n",
       " 'Snap',\n",
       " 'Netflix',\n",
       " 'LinkedIn',\n",
       " 'Salesforce',\n",
       " 'Hudson River Trading',\n",
       " 'Jane Street',\n",
       " 'Citadel',\n",
       " 'Two Sigma',\n",
       " 'JPMorgan Chase',\n",
       " 'Capital One',\n",
       " 'Oracle',\n",
       " 'Bytedance',\n",
       " 'Intel']"
      ]
     },
     "execution_count": 183,
     "metadata": {},
     "output_type": "execute_result"
    }
   ],
   "source": [
    "page = requests.get('https://www.levels.fyi/companies')\n",
    "soup = BeautifulSoup(page.content, 'html.parser')\n",
    "companies_container = soup.find_all(\n",
    "    'h6', class_='MuiTypography-root MuiTypography-h6 css-1v6gvkr')\n",
    "companies = [company.text for company in companies_container]\n",
    "companies"
   ]
  },
  {
   "cell_type": "code",
   "execution_count": 184,
   "metadata": {},
   "outputs": [
    {
     "name": "stdout",
     "output_type": "stream",
     "text": [
      "crawling Google software-engineer...\n",
      "crawling Google product-manager...\n",
      "crawling Google product-designer...\n",
      "crawling Google technical-program-manager...\n",
      "crawling Google sales...\n",
      "crawling Google software-engineering-manager...\n",
      "crawling Google data-scientist...\n",
      "crawling Google program-manager...\n",
      "crawling Google hardware-engineer...\n",
      "crawling Google marketing...\n",
      "crawling Google project-manager...\n",
      "crawling Google solution-architect...\n",
      "crawling Google recruiter...\n",
      "crawling Google financial-analyst...\n",
      "crawling Google accountant...\n",
      "crawling Google business-analyst...\n",
      "crawling Google human-resources...\n",
      "crawling Google mechanical-engineer...\n",
      "crawling Google business-development...\n",
      "crawling Google marketing-operations...\n",
      "crawling Google information-technologist...\n",
      "crawling Google management-consultant...\n",
      "crawling Google sales-engineer...\n",
      "crawling Google security-analyst...\n",
      "crawling Google technical-writer...\n",
      "crawling Google legal...\n",
      "crawling Google product-design-manager...\n",
      "crawling Google data-science-manager...\n",
      "crawling Google administrative-assistant...\n",
      "crawling Google customer-service...\n",
      "crawling Google chief-of-staff...\n",
      "crawling Google venture-capitalist...\n",
      "crawling Google biomedical-engineer...\n"
     ]
    },
    {
     "ename": "NoSuchElementException",
     "evalue": "Message: no such element: Unable to locate element: {\"method\":\"css selector\",\"selector\":\"tbody.MuiTableBody-root.css-6l3v2e\"}\n  (Session info: chrome=119.0.6045.160); For documentation on this error, please visit: https://www.selenium.dev/documentation/webdriver/troubleshooting/errors#no-such-element-exception\nStacktrace:\n\tGetHandleVerifier [0x00007FF6262F82B2+55298]\n\t(No symbol) [0x00007FF626265E02]\n\t(No symbol) [0x00007FF6261205AB]\n\t(No symbol) [0x00007FF62616175C]\n\t(No symbol) [0x00007FF6261618DC]\n\t(No symbol) [0x00007FF62619CBC7]\n\t(No symbol) [0x00007FF6261820EF]\n\t(No symbol) [0x00007FF62619AAA4]\n\t(No symbol) [0x00007FF626181E83]\n\t(No symbol) [0x00007FF62615670A]\n\t(No symbol) [0x00007FF626157964]\n\tGetHandleVerifier [0x00007FF626670AAB+3694587]\n\tGetHandleVerifier [0x00007FF6266C728E+4048862]\n\tGetHandleVerifier [0x00007FF6266BF173+4015811]\n\tGetHandleVerifier [0x00007FF6263947D6+695590]\n\t(No symbol) [0x00007FF626270CE8]\n\t(No symbol) [0x00007FF62626CF34]\n\t(No symbol) [0x00007FF62626D062]\n\t(No symbol) [0x00007FF62625D3A3]\n\tBaseThreadInitThunk [0x00007FFD20E47344+20]\n\tRtlUserThreadStart [0x00007FFD221626B1+33]\n",
     "output_type": "error",
     "traceback": [
      "\u001b[1;31m---------------------------------------------------------------------------\u001b[0m",
      "\u001b[1;31mNoSuchElementException\u001b[0m                    Traceback (most recent call last)",
      "\u001b[1;32md:\\projects\\ds-final\\crawlers\\main.ipynb Cell 6\u001b[0m line \u001b[0;36m8\n\u001b[0;32m     <a href='vscode-notebook-cell:/d%3A/projects/ds-final/crawlers/main.ipynb#X22sZmlsZQ%3D%3D?line=77'>78</a>\u001b[0m \tdriver\u001b[39m.\u001b[39mclose()\n\u001b[0;32m     <a href='vscode-notebook-cell:/d%3A/projects/ds-final/crawlers/main.ipynb#X22sZmlsZQ%3D%3D?line=79'>80</a>\u001b[0m \u001b[39mfor\u001b[39;00m company \u001b[39min\u001b[39;00m companies:\n\u001b[1;32m---> <a href='vscode-notebook-cell:/d%3A/projects/ds-final/crawlers/main.ipynb#X22sZmlsZQ%3D%3D?line=80'>81</a>\u001b[0m \tcrawl_company(company)\n\u001b[0;32m     <a href='vscode-notebook-cell:/d%3A/projects/ds-final/crawlers/main.ipynb#X22sZmlsZQ%3D%3D?line=82'>83</a>\u001b[0m df\n",
      "\u001b[1;32md:\\projects\\ds-final\\crawlers\\main.ipynb Cell 6\u001b[0m line \u001b[0;36m3\n\u001b[0;32m     <a href='vscode-notebook-cell:/d%3A/projects/ds-final/crawlers/main.ipynb#X22sZmlsZQ%3D%3D?line=27'>28</a>\u001b[0m \u001b[39mexcept\u001b[39;00m:\n\u001b[0;32m     <a href='vscode-notebook-cell:/d%3A/projects/ds-final/crawlers/main.ipynb#X22sZmlsZQ%3D%3D?line=28'>29</a>\u001b[0m \t\u001b[39mpass\u001b[39;00m\n\u001b[1;32m---> <a href='vscode-notebook-cell:/d%3A/projects/ds-final/crawlers/main.ipynb#X22sZmlsZQ%3D%3D?line=31'>32</a>\u001b[0m tbody \u001b[39m=\u001b[39m driver\u001b[39m.\u001b[39;49mfind_element(\n\u001b[0;32m     <a href='vscode-notebook-cell:/d%3A/projects/ds-final/crawlers/main.ipynb#X22sZmlsZQ%3D%3D?line=32'>33</a>\u001b[0m \tby\u001b[39m=\u001b[39;49mBy\u001b[39m.\u001b[39;49mCSS_SELECTOR, value\u001b[39m=\u001b[39;49m\u001b[39m\"\u001b[39;49m\u001b[39mtbody.MuiTableBody-root.css-6l3v2e\u001b[39;49m\u001b[39m\"\u001b[39;49m\n\u001b[0;32m     <a href='vscode-notebook-cell:/d%3A/projects/ds-final/crawlers/main.ipynb#X22sZmlsZQ%3D%3D?line=33'>34</a>\u001b[0m )\n\u001b[0;32m     <a href='vscode-notebook-cell:/d%3A/projects/ds-final/crawlers/main.ipynb#X22sZmlsZQ%3D%3D?line=35'>36</a>\u001b[0m rows \u001b[39m=\u001b[39m tbody\u001b[39m.\u001b[39mfind_elements(\n\u001b[0;32m     <a href='vscode-notebook-cell:/d%3A/projects/ds-final/crawlers/main.ipynb#X22sZmlsZQ%3D%3D?line=36'>37</a>\u001b[0m \tby\u001b[39m=\u001b[39mBy\u001b[39m.\u001b[39mTAG_NAME, value\u001b[39m=\u001b[39m\u001b[39m\"\u001b[39m\u001b[39mtr\u001b[39m\u001b[39m\"\u001b[39m\n\u001b[0;32m     <a href='vscode-notebook-cell:/d%3A/projects/ds-final/crawlers/main.ipynb#X22sZmlsZQ%3D%3D?line=37'>38</a>\u001b[0m )\n\u001b[0;32m     <a href='vscode-notebook-cell:/d%3A/projects/ds-final/crawlers/main.ipynb#X22sZmlsZQ%3D%3D?line=39'>40</a>\u001b[0m \u001b[39mfor\u001b[39;00m row \u001b[39min\u001b[39;00m rows:\n",
      "File \u001b[1;32mc:\\Users\\Admin\\AppData\\Local\\Programs\\Python\\Python311\\Lib\\site-packages\\selenium\\webdriver\\remote\\webdriver.py:741\u001b[0m, in \u001b[0;36mWebDriver.find_element\u001b[1;34m(self, by, value)\u001b[0m\n\u001b[0;32m    738\u001b[0m     by \u001b[39m=\u001b[39m By\u001b[39m.\u001b[39mCSS_SELECTOR\n\u001b[0;32m    739\u001b[0m     value \u001b[39m=\u001b[39m \u001b[39mf\u001b[39m\u001b[39m'\u001b[39m\u001b[39m[name=\u001b[39m\u001b[39m\"\u001b[39m\u001b[39m{\u001b[39;00mvalue\u001b[39m}\u001b[39;00m\u001b[39m\"\u001b[39m\u001b[39m]\u001b[39m\u001b[39m'\u001b[39m\n\u001b[1;32m--> 741\u001b[0m \u001b[39mreturn\u001b[39;00m \u001b[39mself\u001b[39;49m\u001b[39m.\u001b[39;49mexecute(Command\u001b[39m.\u001b[39;49mFIND_ELEMENT, {\u001b[39m\"\u001b[39;49m\u001b[39musing\u001b[39;49m\u001b[39m\"\u001b[39;49m: by, \u001b[39m\"\u001b[39;49m\u001b[39mvalue\u001b[39;49m\u001b[39m\"\u001b[39;49m: value})[\u001b[39m\"\u001b[39m\u001b[39mvalue\u001b[39m\u001b[39m\"\u001b[39m]\n",
      "File \u001b[1;32mc:\\Users\\Admin\\AppData\\Local\\Programs\\Python\\Python311\\Lib\\site-packages\\selenium\\webdriver\\remote\\webdriver.py:347\u001b[0m, in \u001b[0;36mWebDriver.execute\u001b[1;34m(self, driver_command, params)\u001b[0m\n\u001b[0;32m    345\u001b[0m response \u001b[39m=\u001b[39m \u001b[39mself\u001b[39m\u001b[39m.\u001b[39mcommand_executor\u001b[39m.\u001b[39mexecute(driver_command, params)\n\u001b[0;32m    346\u001b[0m \u001b[39mif\u001b[39;00m response:\n\u001b[1;32m--> 347\u001b[0m     \u001b[39mself\u001b[39;49m\u001b[39m.\u001b[39;49merror_handler\u001b[39m.\u001b[39;49mcheck_response(response)\n\u001b[0;32m    348\u001b[0m     response[\u001b[39m\"\u001b[39m\u001b[39mvalue\u001b[39m\u001b[39m\"\u001b[39m] \u001b[39m=\u001b[39m \u001b[39mself\u001b[39m\u001b[39m.\u001b[39m_unwrap_value(response\u001b[39m.\u001b[39mget(\u001b[39m\"\u001b[39m\u001b[39mvalue\u001b[39m\u001b[39m\"\u001b[39m, \u001b[39mNone\u001b[39;00m))\n\u001b[0;32m    349\u001b[0m     \u001b[39mreturn\u001b[39;00m response\n",
      "File \u001b[1;32mc:\\Users\\Admin\\AppData\\Local\\Programs\\Python\\Python311\\Lib\\site-packages\\selenium\\webdriver\\remote\\errorhandler.py:229\u001b[0m, in \u001b[0;36mErrorHandler.check_response\u001b[1;34m(self, response)\u001b[0m\n\u001b[0;32m    227\u001b[0m         alert_text \u001b[39m=\u001b[39m value[\u001b[39m\"\u001b[39m\u001b[39malert\u001b[39m\u001b[39m\"\u001b[39m]\u001b[39m.\u001b[39mget(\u001b[39m\"\u001b[39m\u001b[39mtext\u001b[39m\u001b[39m\"\u001b[39m)\n\u001b[0;32m    228\u001b[0m     \u001b[39mraise\u001b[39;00m exception_class(message, screen, stacktrace, alert_text)  \u001b[39m# type: ignore[call-arg]  # mypy is not smart enough here\u001b[39;00m\n\u001b[1;32m--> 229\u001b[0m \u001b[39mraise\u001b[39;00m exception_class(message, screen, stacktrace)\n",
      "\u001b[1;31mNoSuchElementException\u001b[0m: Message: no such element: Unable to locate element: {\"method\":\"css selector\",\"selector\":\"tbody.MuiTableBody-root.css-6l3v2e\"}\n  (Session info: chrome=119.0.6045.160); For documentation on this error, please visit: https://www.selenium.dev/documentation/webdriver/troubleshooting/errors#no-such-element-exception\nStacktrace:\n\tGetHandleVerifier [0x00007FF6262F82B2+55298]\n\t(No symbol) [0x00007FF626265E02]\n\t(No symbol) [0x00007FF6261205AB]\n\t(No symbol) [0x00007FF62616175C]\n\t(No symbol) [0x00007FF6261618DC]\n\t(No symbol) [0x00007FF62619CBC7]\n\t(No symbol) [0x00007FF6261820EF]\n\t(No symbol) [0x00007FF62619AAA4]\n\t(No symbol) [0x00007FF626181E83]\n\t(No symbol) [0x00007FF62615670A]\n\t(No symbol) [0x00007FF626157964]\n\tGetHandleVerifier [0x00007FF626670AAB+3694587]\n\tGetHandleVerifier [0x00007FF6266C728E+4048862]\n\tGetHandleVerifier [0x00007FF6266BF173+4015811]\n\tGetHandleVerifier [0x00007FF6263947D6+695590]\n\t(No symbol) [0x00007FF626270CE8]\n\t(No symbol) [0x00007FF62626CF34]\n\t(No symbol) [0x00007FF62626D062]\n\t(No symbol) [0x00007FF62625D3A3]\n\tBaseThreadInitThunk [0x00007FFD20E47344+20]\n\tRtlUserThreadStart [0x00007FFD221626B1+33]\n"
     ]
    }
   ],
   "source": [
    "def crawl_company(company_id):\n",
    "\tpage = requests.get(f'https://www.levels.fyi/companies/{company_id}')\n",
    "\tsoup = BeautifulSoup(page.content, 'html.parser')\n",
    "\tsize = soup.findAll(\n",
    "\t\t'h6', class_='MuiTypography-root MuiTypography-subtitle1 css-idrr7q')[1].text\n",
    "\n",
    "\tpage = requests.get(f'https://www.levels.fyi/companies/{company_id}/salaries')\n",
    "\tsoup = BeautifulSoup(page.content, 'html.parser')\n",
    "\tjob_titles_container = soup.find_all('h6', class_='MuiTypography-root MuiTypography-h6 css-jv9qtm')\n",
    "\tjob_titles = [job_title.text for job_title in job_titles_container]\n",
    "\tjob_title_ids = [job_title.strip().lower().replace(' ', '-') for job_title in job_titles]\n",
    "\n",
    "\tdriver = webdriver.Chrome()\n",
    "\n",
    "\tfor job_title_id in job_title_ids:\n",
    "\t\tdriver.get(f'https://www.levels.fyi/company/{company_id}/salaries/{job_title_id}')\n",
    "\n",
    "\t\tprint(f'crawling {company_id} {job_title_id}...')\n",
    "\n",
    "\t\ttry:\n",
    "\t\t\tbutton = driver.find_element(\n",
    "\t\t\t\tby=By.CSS_SELECTOR, value=\"button.MuiButton-root.MuiButton-text.MuiButton-textPrimary.MuiButton-sizeMedium.MuiButton-textSizeMedium.MuiButtonBase-root.css-um5318\")\n",
    "\t\t\tbutton.click()\n",
    "\n",
    "\t\t\tbutton = driver.find_element(\n",
    "\t\t\t\tby=By.CSS_SELECTOR, value=\"button.MuiButton-root.MuiButton-text.MuiButton-textPrimary.MuiButton-sizeMedium.MuiButton-textSizeMedium.MuiButtonBase-root.css-g9gvkf\")\n",
    "\t\t\tbutton.click()\n",
    "\t\texcept:\n",
    "\t\t\tpass\n",
    "\n",
    "\t\ttry:\n",
    "\t\t\ttbody = driver.find_element(\n",
    "\t\t\t\tby=By.CSS_SELECTOR, value=\"tbody.MuiTableBody-root.css-6l3v2e\"\n",
    "\t\t\t)\n",
    "\t\t\trows = tbody.find_elements(\n",
    "\t\t\t\tby=By.TAG_NAME, value=\"tr\"\n",
    "\t\t\t)\n",
    "\t\t\tfor row in rows:\n",
    "\t\t\t\ttry:\n",
    "\t\t\t\t\tcells = row.find_elements(\n",
    "\t\t\t\t\t\tby=By.TAG_NAME, value=\"td\"\n",
    "\t\t\t\t\t)\n",
    "\t\t\t\t\tlocation = cells[0].find_element(\n",
    "\t\t\t\t\t\tby=By.TAG_NAME, value=\"span\"\n",
    "\t\t\t\t\t).find_element(\n",
    "\t\t\t\t\t\tby=By.TAG_NAME, value=\"span\"\n",
    "\t\t\t\t\t).text.split('|')[0]\n",
    "\t\t\t\t\tlevel = cells[1].find_element(\n",
    "\t\t\t\t\t\tby=By.TAG_NAME, value=\"p\"\n",
    "\t\t\t\t\t).text\n",
    "\t\t\t\t\tfield = cells[1].find_element(\n",
    "\t\t\t\t\t\tby=By.TAG_NAME, value=\"span\"\n",
    "\t\t\t\t\t).text\n",
    "\t\t\t\t\tyoe_total = cells[2].find_element(\n",
    "\t\t\t\t\t\tby=By.TAG_NAME, value=\"p\"\n",
    "\t\t\t\t\t).text\n",
    "\t\t\t\t\tyoe_at_company = cells[2].find_element(\n",
    "\t\t\t\t\t\tby=By.TAG_NAME, value=\"span\"\n",
    "\t\t\t\t\t).text\n",
    "\t\t\t\t\ttotal_compensation = cells[3].find_element(\n",
    "\t\t\t\t\t\tby=By.TAG_NAME, value=\"p\"\n",
    "\t\t\t\t\t).text\n",
    "\t\t\t\t\tdf = df.append({\n",
    "\t\t\t\t\t\t'company': company_id.replace('-', ' ').title(),\n",
    "\t\t\t\t\t\t'company_size': size,\n",
    "\t\t\t\t\t\t'job_title': job_title_id.replace('-', ' ').title(),\n",
    "\t\t\t\t\t\t'level': level,\n",
    "\t\t\t\t\t\t'domain': field,\n",
    "\t\t\t\t\t\t'yoe_total': yoe_total,\n",
    "\t\t\t\t\t\t'yoe_at_company': yoe_at_company,\n",
    "\t\t\t\t\t\t'total_compensation': total_compensation,\n",
    "\t\t\t\t\t\t'location': location\n",
    "\t\t\t\t\t}, ignore_index=True)\n",
    "\t\t\t\texcept:\n",
    "\t\t\t\t\tcontinue\n",
    "\t\texcept:\n",
    "\t\t\tpass\n",
    "\t\t\n",
    "\tdriver.close()\n",
    "\n",
    "for company in companies:\n",
    "\tcrawl_company(company)\n",
    "\n",
    "df\n"
   ]
  }
 ],
 "metadata": {
  "kernelspec": {
   "display_name": "Python 3",
   "language": "python",
   "name": "python3"
  },
  "language_info": {
   "codemirror_mode": {
    "name": "ipython",
    "version": 3
   },
   "file_extension": ".py",
   "mimetype": "text/x-python",
   "name": "python",
   "nbconvert_exporter": "python",
   "pygments_lexer": "ipython3",
   "version": "3.11.2"
  }
 },
 "nbformat": 4,
 "nbformat_minor": 2
}
