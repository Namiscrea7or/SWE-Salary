{
 "cells": [
  {
   "cell_type": "markdown",
   "metadata": {},
   "source": [
    "## Preparation"
   ]
  },
  {
   "cell_type": "code",
   "execution_count": 22,
   "metadata": {},
   "outputs": [],
   "source": [
    "import requests\n",
    "import pandas as pd\n",
    "from bs4 import BeautifulSoup\n",
    "from selenium import webdriver\n",
    "from selenium.webdriver.common.by import By"
   ]
  },
  {
   "cell_type": "code",
   "execution_count": 24,
   "metadata": {},
   "outputs": [],
   "source": [
    "df = pd.DataFrame(columns=[\n",
    "\t'company',\n",
    "\t'company_size',\n",
    "\t'job_title',\n",
    "\t'level',\n",
    "\t'domain',\n",
    "\t'yoe_total',\n",
    "\t'yoe_at_company',\n",
    "\t'total_compensation',\n",
    "\t'location'\n",
    "])"
   ]
  },
  {
   "cell_type": "markdown",
   "metadata": {},
   "source": [
    "## Site: levels.fyi"
   ]
  },
  {
   "cell_type": "code",
   "execution_count": 17,
   "metadata": {},
   "outputs": [],
   "source": [
    "def crawl_company(df: pd.DataFrame, company_id: str):\n",
    "\tdriver = webdriver.Chrome()\n",
    "\t\n",
    "\tpage = requests.get(f'https://www.levels.fyi/companies/{company_id}')\n",
    "\tsoup = BeautifulSoup(page.content, 'html.parser')\n",
    "\tsize = soup.findAll(\n",
    "\t\t'h6', class_='MuiTypography-root MuiTypography-subtitle1 css-idrr7q')[1].text\n",
    "\n",
    "\tpage = requests.get(f'https://www.levels.fyi/companies/{company_id}/salaries')\n",
    "\tsoup = BeautifulSoup(page.content, 'html.parser')\n",
    "\tjob_titles_container = soup.find_all('h6', class_='MuiTypography-root MuiTypography-h6 css-jv9qtm')\n",
    "\tjob_titles = [job_title.text for job_title in job_titles_container]\n",
    "\tjob_title_ids = [job_title.strip().lower().replace(' ', '-') for job_title in job_titles]\n",
    "\n",
    "\tfor job_title_id in job_title_ids:\n",
    "\t\tdriver.get(f'https://www.levels.fyi/company/{company_id}/salaries/{job_title_id}')\n",
    "\n",
    "\t\tprint(f'--> crawling {company_id} {job_title_id}...')\n",
    "\n",
    "\t\ttry:\n",
    "\t\t\tbutton = driver.find_element(\n",
    "\t\t\t\tby=By.CSS_SELECTOR, value=\"button.MuiButton-root.MuiButton-text.MuiButton-textPrimary.MuiButton-sizeMedium.MuiButton-textSizeMedium.MuiButtonBase-root.css-um5318\")\n",
    "\t\t\tbutton.click()\n",
    "\n",
    "\t\t\tbutton = driver.find_element(\n",
    "\t\t\t\tby=By.CSS_SELECTOR, value=\"button.MuiButton-root.MuiButton-text.MuiButton-textPrimary.MuiButton-sizeMedium.MuiButton-textSizeMedium.MuiButtonBase-root.css-g9gvkf\")\n",
    "\t\t\tbutton.click()\n",
    "\t\texcept:\n",
    "\t\t\tpass\n",
    "\n",
    "\t\ttry:\n",
    "\t\t\ttbody = driver.find_element(\n",
    "\t\t\t\tby=By.CSS_SELECTOR, value=\"tbody.MuiTableBody-root.css-6l3v2e\"\n",
    "\t\t\t)\n",
    "\t\t\trows = tbody.find_elements(\n",
    "\t\t\t\tby=By.TAG_NAME, value=\"tr\"\n",
    "\t\t\t)\n",
    "\t\t\tfor row in rows:\n",
    "\t\t\t\ttry:\n",
    "\t\t\t\t\tcells = row.find_elements(\n",
    "\t\t\t\t\t\tby=By.TAG_NAME, value=\"td\"\n",
    "\t\t\t\t\t)\n",
    "\t\t\t\t\tlocation = cells[0].find_element(\n",
    "\t\t\t\t\t\tby=By.TAG_NAME, value=\"span\"\n",
    "\t\t\t\t\t).find_element(\n",
    "\t\t\t\t\t\tby=By.TAG_NAME, value=\"span\"\n",
    "\t\t\t\t\t).text.split('|')[0]\n",
    "\t\t\t\t\tlevel = cells[1].find_element(\n",
    "\t\t\t\t\t\tby=By.TAG_NAME, value=\"p\"\n",
    "\t\t\t\t\t).text\n",
    "\t\t\t\t\tfield = cells[1].find_element(\n",
    "\t\t\t\t\t\tby=By.TAG_NAME, value=\"span\"\n",
    "\t\t\t\t\t).text\n",
    "\t\t\t\t\tyoe_total = cells[2].find_element(\n",
    "\t\t\t\t\t\tby=By.TAG_NAME, value=\"p\"\n",
    "\t\t\t\t\t).text\n",
    "\t\t\t\t\tyoe_at_company = cells[2].find_element(\n",
    "\t\t\t\t\t\tby=By.TAG_NAME, value=\"span\"\n",
    "\t\t\t\t\t).text\n",
    "\t\t\t\t\ttotal_compensation = cells[3].find_element(\n",
    "\t\t\t\t\t\tby=By.TAG_NAME, value=\"p\"\n",
    "\t\t\t\t\t).text\n",
    "\n",
    "\t\t\t\t\tnew_record = {\n",
    "\t\t\t\t\t\t'company': company_id,\n",
    "\t\t\t\t\t\t'company_size': size,\n",
    "\t\t\t\t\t\t'job_title': job_title_id,\n",
    "\t\t\t\t\t\t'level': level,\n",
    "\t\t\t\t\t\t'domain': field,\n",
    "\t\t\t\t\t\t'yoe_total': yoe_total,\n",
    "\t\t\t\t\t\t'yoe_at_company': yoe_at_company,\n",
    "\t\t\t\t\t\t'total_compensation': total_compensation,\n",
    "\t\t\t\t\t\t'location': location\n",
    "\t\t\t\t\t}\n",
    "\n",
    "\t\t\t\t\tprint(new_record)\n",
    "\n",
    "\t\t\t\t\tdf.loc[len(df)] = new_record\n",
    "\t\t\t\texcept:\n",
    "\t\t\t\t\tcontinue\n",
    "\t\texcept:\n",
    "\t\t\tpass\n",
    "\tdriver.close()"
   ]
  },
  {
   "cell_type": "markdown",
   "metadata": {},
   "source": [
    "### Popular companies (but they are also the top-paying to me)"
   ]
  },
  {
   "cell_type": "code",
   "execution_count": null,
   "metadata": {},
   "outputs": [],
   "source": [
    "\n",
    "page = requests.get('https://www.levels.fyi/companies')\n",
    "soup = BeautifulSoup(page.content, 'html.parser')\n",
    "popular_companies_container = soup.find_all(\n",
    "    'h6', class_='MuiTypography-root MuiTypography-h6 css-1v6gvkr')\n",
    "popular_companies = [company.text for company in popular_companies_container]\n",
    "popular_companies\n",
    "\n",
    "popular_companies_df = pd.DataFrame(columns=[\n",
    "\t'company',\n",
    "\t'company_size',\n",
    "\t'job_title',\n",
    "\t'level',\n",
    "\t'domain',\n",
    "\t'yoe_total',\n",
    "\t'yoe_at_company',\n",
    "\t'total_compensation',\n",
    "\t'location'\n",
    "])\n",
    "\n",
    "for popular_company in popular_companies:\n",
    "\tcrawl_company(popular_companies_df, popular_company)\n",
    "\n",
    "popular_companies_df.to_csv('popular_companies.csv', index=False)"
   ]
  },
  {
   "cell_type": "markdown",
   "metadata": {},
   "source": [
    "### We'd like to put the desired companies here"
   ]
  },
  {
   "cell_type": "code",
   "execution_count": null,
   "metadata": {},
   "outputs": [],
   "source": [
    "desired_companies = [\n",
    "\t'shopee',\n",
    "\t'tiki',\n",
    "\t'grab',\n",
    "\t'gojek-tech',\n",
    "\t'kms-technology',\n",
    "\t'riot-games',\n",
    "]\n",
    "\n",
    "desired_companies_df = pd.DataFrame(columns=[\n",
    "\t'company',\n",
    "\t'company_size',\n",
    "\t'job_title',\n",
    "\t'level',\n",
    "\t'domain',\n",
    "\t'yoe_total',\n",
    "\t'yoe_at_company',\n",
    "\t'total_compensation',\n",
    "\t'location'\n",
    "])\n",
    "\n",
    "for desired_company in desired_companies:\n",
    "\tcrawl_company(desired_companies_df, desired_company)\n",
    "\n",
    "desired_companies_df.to_csv('desired_companies.csv', index=False)"
   ]
  },
  {
   "cell_type": "code",
   "execution_count": 32,
   "metadata": {},
   "outputs": [],
   "source": [
    "df = pd.concat([popular_companies_df, desired_companies_df])\n",
    "df.to_csv('all_companies.csv', index=False)"
   ]
  }
 ],
 "metadata": {
  "kernelspec": {
   "display_name": "Python 3",
   "language": "python",
   "name": "python3"
  },
  "language_info": {
   "codemirror_mode": {
    "name": "ipython",
    "version": 3
   },
   "file_extension": ".py",
   "mimetype": "text/x-python",
   "name": "python",
   "nbconvert_exporter": "python",
   "pygments_lexer": "ipython3",
   "version": "3.11.3"
  }
 },
 "nbformat": 4,
 "nbformat_minor": 2
}
